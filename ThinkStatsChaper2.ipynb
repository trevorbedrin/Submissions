{
 "metadata": {
  "name": "",
  "signature": "sha256:879ff858457e5024345a0ff9e7675783784e993489b1c9a91fe6f537fec0dc5f"
 },
 "nbformat": 3,
 "nbformat_minor": 0,
 "worksheets": [
  {
   "cells": [
    {
     "cell_type": "heading",
     "level": 1,
     "metadata": {},
     "source": [
      "Question 2.1"
     ]
    },
    {
     "cell_type": "code",
     "collapsed": false,
     "input": [
      "import thinkstats\n",
      "pumpkin_weights = [1,1,1,2,2,591]\n",
      "def Pumpkin(pumpkins):\n",
      "    \"\"\" Function that returns standard statistics about a list of pumpkin weights \"\"\"\n",
      "    \n",
      "    mean = thinkstats.Mean(pumpkins)\n",
      "    variance = thinkstats.Var(pumpkins)\n",
      "    sigma = variance ** 0.5\n",
      "    \n",
      "    return (mean,variance,sigma)\n",
      "    \n",
      "m, v, s = Pumpkin(pumpkin_weights)\n",
      "\n",
      "print \"The mean is: %f\\nThe variance is: %f\\nThe standard deviation is: %f\\n\" % (m, v, s)\n",
      "\n",
      "    "
     ],
     "language": "python",
     "metadata": {},
     "outputs": [
      {
       "output_type": "stream",
       "stream": "stdout",
       "text": [
        "The mean is: 99.666667\n",
        "The variance is: 48281.888889\n",
        "The standard deviation is: 219.731402\n",
        "\n"
       ]
      }
     ],
     "prompt_number": 8
    },
    {
     "cell_type": "heading",
     "level": 1,
     "metadata": {},
     "source": [
      "Question 2.2"
     ]
    },
    {
     "cell_type": "code",
     "collapsed": false,
     "input": [
      "import thinkstats\n",
      "import survey\n",
      "from pprint import pprint\n",
      "\n",
      "table = survey.Pregnancies()\n",
      "table.ReadRecords()\n",
      "first_birth_length = [record.prglength for record in table.records if record.outcome == 1 and record.birthord == 1]\n",
      "all_birth_length = [record.prglength for record in table.records if record.outcome == 1 and record.birthord != 1]\n",
      "print \"The mean and standard deviation for first births are: %f, %f (respectively)\" % (thinkstats.Mean(first_birth_length), thinkstats.Var(first_birth_length) ** 0.5)\n",
      "print \"The mean and standard deviation for all other births are: %f, %f (respectively)\" % (thinkstats.Mean(all_birth_length), thinkstats.Var(all_birth_length) ** 0.5)"
     ],
     "language": "python",
     "metadata": {},
     "outputs": [
      {
       "output_type": "stream",
       "stream": "stdout",
       "text": [
        "The mean and standard deviation for first births are: 38.600952, 2.791585 (respectively)\n",
        "The mean and standard deviation for all other births are: 38.522914, 2.615576 (respectively)\n"
       ]
      }
     ],
     "prompt_number": 33
    },
    {
     "cell_type": "heading",
     "level": 1,
     "metadata": {},
     "source": [
      "Question 2.3"
     ]
    },
    {
     "cell_type": "code",
     "collapsed": false,
     "input": [
      "import pmf\n",
      "import operator\n",
      "\n",
      "hist = pmf.MakeHistFromList([1, 2, 2, 3, 5])\n",
      "\n",
      "def Mode(histogram):\n",
      "    \"\"\" returns the mode as calculated from a Histogram Object \"\"\"\n",
      "    max_freq = 0\n",
      "    mode = []\n",
      "    \n",
      "    for val, freq in histogram.Items():\n",
      "        if (freq > max_freq):\n",
      "            max_freq = freq\n",
      "    for val, freq in histogram.Items():\n",
      "        if (freq == max_freq):\n",
      "            mode.append(val)\n",
      "    return mode\n",
      "\n",
      "def AllModes(histogram):\n",
      "    \"\"\" returns the list of value/frequency pairs in a Histogram object in sorted order \"\"\"\n",
      "    return sorted(histogram.Items(), key=operator.itemgetter(1), reverse=True)\n",
      "\n",
      "print \"The mode of the histogram data is: \", Mode(hist)\n",
      "print \"The sorted list is: \", AllModes(hist)\n"
     ],
     "language": "python",
     "metadata": {},
     "outputs": [
      {
       "output_type": "stream",
       "stream": "stdout",
       "text": [
        "The mode of the histogram data is:  [2]\n",
        "The sorted list is:  [(2, 2), (1, 1), (3, 1), (5, 1)]\n"
       ]
      }
     ],
     "prompt_number": 52
    },
    {
     "cell_type": "heading",
     "level": 1,
     "metadata": {},
     "source": [
      "Question 2.5"
     ]
    },
    {
     "cell_type": "code",
     "collapsed": false,
     "input": [
      "import pmf\n",
      "hist = pmf.MakeHistFromList([1, 2, 2, 3, 5])\n",
      "\n",
      "def PmfMean(histogram):\n",
      "    \"\"\" Calculates the mean from a Pmf \"\"\"\n",
      "    mean = 0\n",
      "    obj = pmf.MakePmfFromHist(histogram)\n",
      "    probs = obj.Probs()\n",
      "    iterator = 0\n",
      "    for val, freq in histogram.Items():\n",
      "        mean += val * probs[iterator]\n",
      "        iterator += 1\n",
      "    return mean\n",
      "\n",
      "def PmfVar(histogram):\n",
      "    \"\"\" Calculates the variance from a Pmf \"\"\"\n",
      "    var = 0\n",
      "    obj = pmf.MakePmfFromHist(histogram)\n",
      "    probs = obj.Probs()\n",
      "    iterator = 0\n",
      "    for val, freq in histogram.Items():\n",
      "        var += ((val - obj.Mean()) ** 2) * probs[iterator]\n",
      "        iterator += 1\n",
      "    return var\n",
      "\n",
      "print PmfMean(hist)\n",
      "print pmf.MakePmfFromHist(hist).Mean()\n",
      "print PmfVar(hist)\n",
      "print pmf.MakePmfFromHist(hist).Var()"
     ],
     "language": "python",
     "metadata": {},
     "outputs": [
      {
       "output_type": "stream",
       "stream": "stdout",
       "text": [
        "2.6\n",
        "2.6\n",
        "1.84\n",
        "1.84\n"
       ]
      }
     ],
     "prompt_number": 68
    },
    {
     "cell_type": "code",
     "collapsed": false,
     "input": [],
     "language": "python",
     "metadata": {},
     "outputs": []
    }
   ],
   "metadata": {}
  }
 ]
}