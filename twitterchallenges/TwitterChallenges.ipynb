{
 "metadata": {
  "name": "",
  "signature": "sha256:30ae5b1848f7da2e0662bc6e1c47c90523ede0bcfc38fb177e3706bb89fcda48"
 },
 "nbformat": 3,
 "nbformat_minor": 0,
 "worksheets": [
  {
   "cells": [
    {
     "cell_type": "code",
     "collapsed": false,
     "input": [
      "import requests\n",
      "from requests_oauthlib import OAuth1\n",
      "from pprint import pprint\n",
      "import tweepy\n",
      "from collections import defaultdict\n",
      "from pymongo import MongoClient"
     ],
     "language": "python",
     "metadata": {},
     "outputs": [],
     "prompt_number": 18
    },
    {
     "cell_type": "code",
     "collapsed": false,
     "input": [
      "consumer_key = '9SmIsItF8rE9nkaoSR1MhVMnX'\n",
      "consumer_secret = 'xnu8lYFqy3pu7E59ppRWM3gJHL4TIlnXLXWCgtwOxAYoWs1GZH'\n",
      "access_token = '2828085408-MnCzoe3OZgqx9cXRfGIuTioCwzxqIcDlCz1taTo'\n",
      "access_secret = 'Qs4xa6nQiWvvJzCH2lOU7wbO9W878QSPiElWDH4GU7Owt'\n",
      "\n",
      "auth = tweepy.OAuthHandler(consumer_key, consumer_secret)\n",
      "auth.set_access_token(access_token, access_secret)\n",
      "api = tweepy.API(auth, wait_on_rate_limit=True)\n",
      "\n",
      "client = MongoClient()\n",
      "db = client.dsbc\n",
      "db.collection_names()\n",
      "starcitizen = db.starcitizen\n",
      "starcitizen.count()"
     ],
     "language": "python",
     "metadata": {},
     "outputs": [
      {
       "metadata": {},
       "output_type": "pyout",
       "prompt_number": 20,
       "text": [
        "0"
       ]
      }
     ],
     "prompt_number": 20
    },
    {
     "cell_type": "code",
     "collapsed": false,
     "input": [
      "query = \"#starcitizen\"\n",
      "max_tweets = 1000\n",
      "tweet_dict = defaultdict(dict)\n",
      "\n",
      "search_results = tweepy.Cursor(api.search, q=query).items(max_tweets)\n",
      "for index, tweet in enumerate(search_results):\n",
      "    tweet_dict[index] = {'author': tweet.author.screen_name,\n",
      "                         'tweet': tweet.text,\n",
      "                         'favorites_count': tweet.favorite_count,\n",
      "                         'retweets_count': tweet.retweet_count}"
     ],
     "language": "python",
     "metadata": {},
     "outputs": [],
     "prompt_number": 15
    },
    {
     "cell_type": "code",
     "collapsed": false,
     "input": [
      "for k, v in tweet_dict.iteritems():\n",
      "    starcitizen.insert(v)"
     ],
     "language": "python",
     "metadata": {},
     "outputs": [],
     "prompt_number": 21
    },
    {
     "cell_type": "code",
     "collapsed": false,
     "input": [
      "cursor = starcitizen.find()\n",
      "print cursor.next()"
     ],
     "language": "python",
     "metadata": {},
     "outputs": [
      {
       "output_type": "stream",
       "stream": "stdout",
       "text": [
        "{u'favorites_count': 0, u'retweets_count': 1, u'tweet': u'RT @massively: #StarCitizen pimps out the Drake Cutlass - http://t.co/ay5Vg3QbXD', u'_id': ObjectId('543e94efaff38b2ee04217c4'), u'author': u'Guild__Alliance'}\n"
       ]
      }
     ],
     "prompt_number": 23
    },
    {
     "cell_type": "code",
     "collapsed": false,
     "input": [],
     "language": "python",
     "metadata": {},
     "outputs": []
    }
   ],
   "metadata": {}
  }
 ]
}