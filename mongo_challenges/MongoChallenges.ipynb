{
 "metadata": {
  "name": "",
  "signature": "sha256:8e163a0bfe7ff903005d4db338d4c8d3ee21f16f0e8f99d181572bbe781c1219"
 },
 "nbformat": 3,
 "nbformat_minor": 0,
 "worksheets": [
  {
   "cells": [
    {
     "cell_type": "code",
     "collapsed": false,
     "input": [
      "%matplotlib inline\n",
      "import matplotlib.pyplot as plt\n",
      "from pymongo import MongoClient\n",
      "import unicodedata\n",
      "from collections import defaultdict\n",
      "import numpy as np"
     ],
     "language": "python",
     "metadata": {},
     "outputs": [],
     "prompt_number": 353
    },
    {
     "cell_type": "heading",
     "level": 2,
     "metadata": {},
     "source": [
      "Challenge 1"
     ]
    },
    {
     "cell_type": "markdown",
     "metadata": {},
     "source": [
      "Make a histogram of the years"
     ]
    },
    {
     "cell_type": "code",
     "collapsed": false,
     "input": [
      "client = MongoClient()\n",
      "db = client.dsbc\n",
      "db.collection_names()\n",
      "hmm = db.hmm\n",
      "hmm.count()\n",
      "#hmm.find().next()"
     ],
     "language": "python",
     "metadata": {},
     "outputs": [
      {
       "metadata": {},
       "output_type": "pyout",
       "prompt_number": 152,
       "text": [
        "856"
       ]
      }
     ],
     "prompt_number": 152
    },
    {
     "cell_type": "code",
     "collapsed": false,
     "input": [
      "years = list(hmm.find({}, {'year':1, '_id':0}))\n",
      "\n",
      "years = [i['year'] for i in years]\n",
      "\n",
      "plt.hist(years, bins=20)"
     ],
     "language": "python",
     "metadata": {},
     "outputs": [
      {
       "metadata": {},
       "output_type": "pyout",
       "prompt_number": 144,
       "text": [
        "(array([   2.,    1.,    4.,    2.,    7.,    2.,    4.,    0.,    2.,\n",
        "           9.,   19.,   47.,   80.,  159.,  140.,   80.,   48.,   58.,\n",
        "          73.,  119.]),\n",
        " array([ 1910.  ,  1915.15,  1920.3 ,  1925.45,  1930.6 ,  1935.75,\n",
        "         1940.9 ,  1946.05,  1951.2 ,  1956.35,  1961.5 ,  1966.65,\n",
        "         1971.8 ,  1976.95,  1982.1 ,  1987.25,  1992.4 ,  1997.55,\n",
        "         2002.7 ,  2007.85,  2013.  ]),\n",
        " <a list of 20 Patch objects>)"
       ]
      },
      {
       "metadata": {},
       "output_type": "display_data",
       "png": "[encoded data removed]",
       "text": [
        "<matplotlib.figure.Figure at 0x112837e50>"
       ]
      }
     ],
     "prompt_number": 144
    },
    {
     "cell_type": "heading",
     "level": 2,
     "metadata": {},
     "source": [
      "Challenge 2"
     ]
    },
    {
     "cell_type": "markdown",
     "metadata": {},
     "source": [
      "Find the cast member that appeared in most Heavy Metal movies. Is there one that is shared by more than one of these movies? Or are they all completely different actors for every movie?"
     ]
    },
    {
     "cell_type": "code",
     "collapsed": false,
     "input": [
      "actors = list(hmm.find({}, {'cast':1, '_id':0}))\n",
      "cast = [item for sublist in [i['cast'] for i in actors] for item in sublist]\n",
      "cast_dict = dict((i,cast.count(i)) for i in cast if i != \"\" )\n",
      "cast_member_max = max(cast_dict.values())           \n",
      "cast_members = [x for x,y in cast_dict.items() if y == cast_member_max]  \n",
      "              \n",
      "print \"%s appeared the most with %d total appearances.\" % (', '.join(cast_members), cast_member_max)\n",
      "print \"Most actors seem to have only appeared in one of these movies, but some have apeared in multiple.\""
     ],
     "language": "python",
     "metadata": {},
     "outputs": [
      {
       "output_type": "stream",
       "stream": "stdout",
       "text": [
        "Alice Cooper appeared the most with 15 total appearances.\n",
        "Most actors seem to have only appeared in one of these movies, but some have apeared in multiple.\n"
       ]
      }
     ],
     "prompt_number": 145
    },
    {
     "cell_type": "heading",
     "level": 2,
     "metadata": {},
     "source": [
      "Challenge 3"
     ]
    },
    {
     "cell_type": "markdown",
     "metadata": {},
     "source": [
      "Find the most used words in Heavy Metal film titles. Is there a word that appears in a lot of them? Is it \"The\"? If it is something like \"the\", How can you get around that? Find one \"meaningful\" word that appears the most (this means non-structural word, unlike \"the\" or \"a\" or \"in\")"
     ]
    },
    {
     "cell_type": "code",
     "collapsed": false,
     "input": [
      "titles = list(hmm.find({}, {'title':1, '_id':0}))\n",
      "titles = [title['title'] for title in titles]\n",
      "titles\n",
      "title_words = []\n",
      "for i in range(0, len(titles)):\n",
      "    title_words.extend(titles[i].split(\" \"))\n",
      "    \n",
      "title_words = [unicodedata.normalize('NFKD',word).encode('ascii','ignore').lower() for word in title_words if word not in ('A','IN','THE','OF','AN','WITH','AND','TO')]\n",
      "word_dict = dict((i,title_words.count(i)) for i in title_words if i != \"\" )\n",
      "word_counts = [(v, k) for k, v in word_dict.iteritems()]\n",
      "word_counts = sorted(word_counts, reverse=True)\n",
      "print \"The top ten words as reported by title frequency are:\"\n",
      "for v, k in word_counts[0:10]:\n",
      "    print \"  '%s' with a frequency of %d.\" % (k, v)"
     ],
     "language": "python",
     "metadata": {},
     "outputs": [
      {
       "output_type": "stream",
       "stream": "stdout",
       "text": [
        "The top ten words as reported by title frequency are:\n",
        "  'metal' with a frequency of 29.\n",
        "  'dead' with a frequency of 23.\n",
        "  'heavy' with a frequency of 18.\n",
        "  'rock' with a frequency of 17.\n",
        "  'blood' with a frequency of 14.\n",
        "  'black' with a frequency of 14.\n",
        "  'last' with a frequency of 13.\n",
        "  'night' with a frequency of 12.\n",
        "  'devil' with a frequency of 12.\n",
        "  'death' with a frequency of 12.\n"
       ]
      }
     ],
     "prompt_number": 146
    },
    {
     "cell_type": "heading",
     "level": 2,
     "metadata": {},
     "source": [
      "Challenge 4"
     ]
    },
    {
     "cell_type": "markdown",
     "metadata": {},
     "source": [
      "METAL CRED section lists themes included in these movies that makes them more metal. What were the top 5 metal cred keywords in the 70s? In 80s? In 90s, In 2000s?"
     ]
    },
    {
     "cell_type": "code",
     "collapsed": false,
     "input": [
      "cred = list(hmm.find({}, {'year':1, 'metal_cred':1, '_id':0}))\n",
      "cred = [(i['year'], ','.join(i['metal_cred'][1:]).replace('\\n', ' ')) for i in cred]\n",
      "cred_dict = defaultdict(list)\n",
      "final_dict = {}\n",
      "\n",
      "for k, v in cred:\n",
      "    cred_dict[\"%s%s's\" % (str(k)[0:3], '0')].extend(v.split(','))\n",
      "    \n",
      "for decade, values in cred_dict.iteritems():\n",
      "#    print k\n",
      "    final_dict[decade] = dict((i,values.count(i)) for i in values if i != \"\" )\n",
      "    cred_counts = [(v, k) for k, v in final_dict[decade].iteritems()]\n",
      "    cred_counts = sorted(cred_counts, reverse=True)\n",
      "    final_dict[decade] = cred_counts\n",
      "\n",
      "print \"1970's:\"\n",
      "for i, j in final_dict[\"1970's\"][0:5]:\n",
      "    print \"  %s: %s occurances.\" % (j.strip(), i)\n",
      "\n",
      "print \"1980's:\"\n",
      "for i, j in final_dict[\"1980's\"][0:5]:\n",
      "    print \"  %s: %s occurances.\" % (j.strip(), i)\n",
      "\n",
      "print \"1990's:\"\n",
      "for i, j in final_dict[\"1990's\"][0:5]:\n",
      "    print \"  %s: %s occurances.\" % (j.strip(), i)\n",
      "\n",
      "print \"2000's:\"\n",
      "for i, j in final_dict[\"2000's\"][0:5]:\n",
      "    print \"  %s: %s occurances.\" % (j.strip(), i)"
     ],
     "language": "python",
     "metadata": {},
     "outputs": [
      {
       "output_type": "stream",
       "stream": "stdout",
       "text": [
        "1970's:\n",
        "  Satan: 19 occurances.\n",
        "  Black Mass: 10 occurances.\n",
        "  Video Nasty: 7 occurances.\n",
        "  Post-Apocalypse: 7 occurances.\n",
        "  USA: 7 occurances.\n",
        "1980's:\n",
        "  Post-Apocalypse: 29 occurances.\n",
        "  Sword and Sorcery: 20 occurances.\n",
        "  Satan: 16 occurances.\n",
        "  USA: 15 occurances.\n",
        "  Video Nasty: 12 occurances.\n",
        "1990's:\n",
        "  Satan: 7 occurances.\n",
        "  Gwar: 6 occurances.\n",
        "  Marilyn Manson: 5 occurances.\n",
        "  Post-Apocalypse: 4 occurances.\n",
        "  Lemmy: 4 occurances.\n",
        "2000's:\n",
        "  Torture Porn: 11 occurances.\n",
        "  Satan: 7 occurances.\n",
        "  Queens of the Stone Age: 5 occurances.\n",
        "  Hatebreed: 5 occurances.\n",
        "  Soundtrack: AC/DC: 4 occurances.\n"
       ]
      }
     ],
     "prompt_number": 308
    },
    {
     "cell_type": "heading",
     "level": 2,
     "metadata": {},
     "source": [
      "Challenge 5"
     ]
    },
    {
     "cell_type": "markdown",
     "metadata": {},
     "source": [
      "Let's use the length of the METAL CRED section as a proxy score for how metal a movie is. Let's call this the METAL SCORE. To each mongo document, add the metal_score as a new field."
     ]
    },
    {
     "cell_type": "code",
     "collapsed": false,
     "input": [
      "cred = list(hmm.find({}, {'title':1, 'metal_cred':1, '_id':0}))\n",
      "cred = [(i['title'], len(','.join(i['metal_cred'][1:]).replace('\\n', ' ').split(','))) for i in cred]\n",
      "\n",
      "for name, count in cred:\n",
      "    movie = hmm.find({'title':name}, {'_id':1})\n",
      "    movie_id =  movie.next()['_id']\n",
      "    hmm.update({\"_id\":movie_id},{\"$set\":{\"metal_score\":count}},True)\n",
      "# cred"
     ],
     "language": "python",
     "metadata": {},
     "outputs": [],
     "prompt_number": 360
    },
    {
     "cell_type": "heading",
     "level": 2,
     "metadata": {},
     "source": [
      "Challenge 6"
     ]
    },
    {
     "cell_type": "markdown",
     "metadata": {},
     "source": [
      "Find the director that is MOST METAL per movie (director with the highest average metal score). Remember that some movies have multiple directors."
     ]
    },
    {
     "cell_type": "code",
     "collapsed": true,
     "input": [
      "cursor = hmm.find({'metal_score':{'$exists': True}}, {'direct':1,'metal_score':1,'_id':0})\n",
      "dir_dict = defaultdict(list)\n",
      "\n",
      "for i in cursor:\n",
      "    dir_dict[','.join(i['direct'])].append(i['metal_score'])\n",
      "    \n",
      "for k, v in dir_dict.iteritems():\n",
      "    dir_dict[k] = np.mean(v)\n",
      "\n",
      "dir_max = max(dir_dict.values())           \n",
      "dir_name = [x for x,y in dir_dict.items() if y == dir_max]  \n",
      "\n",
      "print \"The most metal director is %s, with a metal score of %.1f.\" % (', '.join(dir_name), dir_max)\n"
     ],
     "language": "python",
     "metadata": {},
     "outputs": [
      {
       "output_type": "stream",
       "stream": "stdout",
       "text": [
        "The most metal director is Alfred Hitchcock, with a metal score of 60.0.\n"
       ]
      }
     ],
     "prompt_number": 361
    },
    {
     "cell_type": "heading",
     "level": 2,
     "metadata": {},
     "source": [
      "Challenge 7"
     ]
    },
    {
     "cell_type": "markdown",
     "metadata": {},
     "source": [
      "The majority of directors and actors will have worked on a single movie. See if there are any directors that worked with an actor more than once. If so, find the director-actor duo that have worked together the most times."
     ]
    },
    {
     "cell_type": "code",
     "collapsed": false,
     "input": [
      "cursor = hmm.find({}, {'direct':1,'cast':1,'_id':0})\n",
      "cast_mapping = []\n",
      "for i in cursor:\n",
      "    for director in i['direct']:\n",
      "        for actor in i['cast']:\n",
      "            cast_mapping.append((director,actor))\n",
      "\n",
      "mapping_dict = dict((i,cast_mapping.count(i)) for i in cast_mapping if i != \"\" )\n",
      "mapping_counts = [(v, k) for k, v in mapping_dict.iteritems()]\n",
      "mapping_counts = sorted(mapping_counts, reverse=True)    \n",
      "    \n",
      "map_max = max(mapping_dict.values())           \n",
      "map_name = [' and '.join(x) for x,y in mapping_dict.items() if y == map_max]  \n",
      "map_name = ', '.join(map_name)\n",
      "print \"The director-actor duo(s) that worked together the most are %s, having worked together %d times.\" % (map_name, map_max)"
     ],
     "language": "python",
     "metadata": {},
     "outputs": [
      {
       "output_type": "stream",
       "stream": "stdout",
       "text": [
        "The director-actor duo(s) that worked together the most are Dario Argento and Daria Nicolodi, Peter Jackson and Christopher Lee, Rob Zombie and Sheri Moon Zombie, Joe D\u2019Amato and George Eastman, having worked together 4 times.\n"
       ]
      }
     ],
     "prompt_number": 371
    },
    {
     "cell_type": "heading",
     "level": 2,
     "metadata": {},
     "source": [
      "Challenge 8"
     ]
    },
    {
     "cell_type": "markdown",
     "metadata": {},
     "source": [
      "Create an index on the 'director' field to make the queries involving it faster."
     ]
    },
    {
     "cell_type": "code",
     "collapsed": false,
     "input": [
      "hmm.create_index ('direct')"
     ],
     "language": "python",
     "metadata": {},
     "outputs": [
      {
       "metadata": {},
       "output_type": "pyout",
       "prompt_number": 372,
       "text": [
        "u'direct_1'"
       ]
      }
     ],
     "prompt_number": 372
    }
   ],
   "metadata": {}
  }
 ]
}