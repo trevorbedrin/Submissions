{
 "metadata": {
  "name": "",
  "signature": "sha256:dcd2de93847f4866b792b711b621f04976a332a4fd81f2b21f8a81f600f768cc"
 },
 "nbformat": 3,
 "nbformat_minor": 0,
 "worksheets": [
  {
   "cells": [
    {
     "cell_type": "code",
     "collapsed": false,
     "input": [
      "%matplotlib inline\n",
      "import matplotlib.pyplot as plt\n",
      "import pandas as pd\n",
      "import numpy as np\n",
      "from sklearn.cross_validation import train_test_split\n",
      "from sklearn.neighbors import KNeighborsClassifier\n",
      "from sklearn.metrics import accuracy_score\n",
      "from sklearn.metrics import precision_score\n",
      "from sklearn.metrics import recall_score\n",
      "from sklearn.metrics import f1_score\n",
      "from sklearn.metrics import roc_curve\n",
      "from sklearn.metrics import auc\n",
      "from sklearn.metrics import confusion_matrix\n",
      "from sklearn.preprocessing import label_binarize\n",
      "from sklearn.linear_model import LogisticRegression\n",
      "from sklearn.learning_curve import learning_curve\n",
      "from sklearn.naive_bayes import GaussianNB\n",
      "from sklearn.svm import SVC\n",
      "from sklearn.tree import DecisionTreeClassifier\n",
      "from sklearn.ensemble import RandomForestClassifier\n",
      "from sklearn.cross_validation import cross_val_score\n",
      "import pickle\n",
      "from collections import defaultdict"
     ],
     "language": "python",
     "metadata": {},
     "outputs": [],
     "prompt_number": 473
    },
    {
     "cell_type": "heading",
     "level": 2,
     "metadata": {},
     "source": [
      "Challenge #1 - Loading the data and correcting for missing values"
     ]
    },
    {
     "cell_type": "markdown",
     "metadata": {},
     "source": [
      "Load the data into a pandas dataframe. Replace 'y's with 1s, 'n's with 0s.\n",
      "Now, almost every representative has a ?. This represents a no vote (they were absent or some other similar reason). If we dropped all the rows that had a ?, we would throw out most of our data. Instead, we will replace ? with the best guess in the Bayesian sense: in the absence of any other information, we will say that the probability of the representative saying YES is the ratio of others that said YES over the whole votes.\n",
      "So, convert each ? to this probability (when yes=1 and no=0, this is the mean of the column)"
     ]
    },
    {
     "cell_type": "code",
     "collapsed": false,
     "input": [
      "df = pd.read_csv('house-votes-84.data.txt',names=['Party','handicapped-infants','water-project-cost-sharing',\n",
      "                                             'adoption-of-the-budget-resolution','physician-fee-freeze','el-salvador-aid',\n",
      "                                             'religious-groups-in-schools','anti-satellite-test-ban','aid-to-nicaraguan-contras'\n",
      "                                             ,'mx-missile','immigration','synfuels-corporation-cutback','education-spending'\n",
      "                                             ,'superfund-right-to-sue','crime','duty-free-exports',\n",
      "                                             'export-administration-act-south-africa'])\n",
      "\n",
      "df.replace('y',1.0,True)\n",
      "df.replace('n',0.0,True)\n",
      "df.replace('?',np.nan,True)\n",
      "df = df.fillna(df.mean())\n",
      "\n",
      "df['Party'] = df['Party'].map({'democrat': 1, 'republican': 0})\n",
      "#df"
     ],
     "language": "python",
     "metadata": {},
     "outputs": [],
     "prompt_number": 399
    },
    {
     "cell_type": "heading",
     "level": 2,
     "metadata": {},
     "source": [
      "Challenge #2 - "
     ]
    },
    {
     "cell_type": "markdown",
     "metadata": {},
     "source": [
      "Split the data into a test and training set. But this time, use this function: from sklearn.cross_validation import train_test_split"
     ]
    },
    {
     "cell_type": "code",
     "collapsed": false,
     "input": [
      "headers = list(df.columns.values)\n",
      "training_set, testing_set = train_test_split(df, test_size=0.25)\n",
      "print len(training_set), len(testing_set)\n",
      "training_set = pd.DataFrame(training_set, columns=headers)\n",
      "testing_set = pd.DataFrame(testing_set, columns=headers)\n",
      "\n",
      "#training_set"
     ],
     "language": "python",
     "metadata": {},
     "outputs": [
      {
       "output_type": "stream",
       "stream": "stdout",
       "text": [
        "326 109\n"
       ]
      }
     ],
     "prompt_number": 400
    },
    {
     "cell_type": "heading",
     "level": 2,
     "metadata": {},
     "source": [
      "Challenge #3 - "
     ]
    },
    {
     "cell_type": "markdown",
     "metadata": {},
     "source": [
      "Using scikit.learn's KNN algorithm, train a model that predicts the party (republican/democrat) from sklearn.neighbors import KNeighborsClassifier\n",
      "\n",
      "Try it with a lot of different k values (number of neighbors), from 1 to 20, and on the test set calculate the accuracy (number of correct predictions / number of all predictions) for each k\n",
      "\n",
      "You can use this to calculate accuracy: from sklearn.metrics import accuracy_score\n",
      "\n",
      "Which k value gives the highest accuracy?"
     ]
    },
    {
     "cell_type": "code",
     "collapsed": false,
     "input": [
      "X = training_set[headers[1:]]\n",
      "y = training_set[headers[:1][0]]\n",
      "\n",
      "accuracy = []\n",
      "\n",
      "for k in range(1, 326):\n",
      "    neigh = KNeighborsClassifier(n_neighbors=k)\n",
      "    neigh.fit(X, y) \n",
      "    y_pred = neigh.predict(testing_set[headers[1:]])\n",
      "    y_true = testing_set[headers[:1][0]]\n",
      "    accuracy.append(accuracy_score(y_true, y_pred))\n",
      "\n",
      "plt.plot(range(1, 326), accuracy)\n",
      "print \"Accuracy: \", (max(accuracy))\n",
      "print \"K: \", [i for i, j in enumerate(accuracy) if j == max(accuracy)]\n",
      "\n",
      "\n",
      "neigh = KNeighborsClassifier(n_neighbors=accuracy.index(max(accuracy)))\n",
      "neigh.fit(X, y) \n",
      "neigh_pred = neigh.predict(testing_set[headers[1:]])\n",
      "neigh_true = testing_set[headers[:1][0]]"
     ],
     "language": "python",
     "metadata": {},
     "outputs": [
      {
       "output_type": "stream",
       "stream": "stdout",
       "text": [
        "Accuracy:  0.935779816514\n",
        "K:  [2]\n"
       ]
      },
      {
       "metadata": {},
       "output_type": "display_data",
       "png": "[encoded data removed]",
       "text": [
        "<matplotlib.figure.Figure at 0x10b8c82d0>"
       ]
      }
     ],
     "prompt_number": 401
    },
    {
     "cell_type": "heading",
     "level": 2,
     "metadata": {},
     "source": [
      "Challenge #4 - "
     ]
    },
    {
     "cell_type": "markdown",
     "metadata": {},
     "source": [
      "Make a similar model but with LogisticRegression instead, calculate test accuracy."
     ]
    },
    {
     "cell_type": "code",
     "collapsed": false,
     "input": [
      "logistic_model = LogisticRegression()\n",
      "logistic_model.fit(X, y)\n",
      "log_pred = logistic_model.predict(testing_set[headers[1:]])\n",
      "log_true = testing_set[headers[:1][0]]\n",
      "logistic_regression_accuracy = accuracy_score(log_true, log_pred)\n",
      "print \"Logistic Regression Accuracy: \", accuracy_score(log_true, log_pred)"
     ],
     "language": "python",
     "metadata": {},
     "outputs": [
      {
       "output_type": "stream",
       "stream": "stdout",
       "text": [
        "Logistic Regression Accuracy:  0.935779816514\n"
       ]
      }
     ],
     "prompt_number": 402
    },
    {
     "cell_type": "heading",
     "level": 2,
     "metadata": {},
     "source": [
      "Challenge #5 - "
     ]
    },
    {
     "cell_type": "markdown",
     "metadata": {},
     "source": [
      "Make a bar graph of democrats and republicans. How many of each are there? Make a very simple predictor that predicts 'democrat' for every incoming example. (Just make a function that takes in an X --an array or matrix with input examples--, and returns an array of the same length as X, where each value is 'democrat'. For example, if X is three rows, your function should return ['democrat','democrat','democrat']) Make a y_predicted vector using this and measure its accuracy. Do the same with predicting 'republican' all the time and measure its accuracy."
     ]
    },
    {
     "cell_type": "code",
     "collapsed": false,
     "input": [
      "democrats = len([party for party in df['Party'] if party == 1])\n",
      "republicans = len([party for party in df['Party'] if party == 0])\n",
      "party_list = {'Democrats': democrats, 'Republicans': republicans}\n",
      "\n",
      "plt.bar(range(len(party_list)), party_list.values(), align='center')\n",
      "plt.xticks(range(len(party_list)), party_list.keys())\n",
      "print 'Republicans: ', republicans\n",
      "print 'Democrats: ', democrats\n",
      "\n",
      "def predict_same(X, prediction):\n",
      "    return [prediction for i in X]\n",
      "\n",
      "y_pred_dem = predict_same(training_set['Party'], 'democrat')\n",
      "y_pred_rep = predict_same(training_set['Party'], 'republican')\n",
      "y_true = training_set['Party']\n",
      "\n",
      "dem_accuracy = accuracy_score(y_true, y_pred_dem)\n",
      "rep_accuracy = accuracy_score(y_true, y_pred_rep)\n",
      "print \"All Democrat Error: \", dem_accuracy\n",
      "print \"All Republican Error: \", rep_accuracy\n"
     ],
     "language": "python",
     "metadata": {},
     "outputs": [
      {
       "output_type": "stream",
       "stream": "stdout",
       "text": [
        "Republicans:  168\n",
        "Democrats:  267\n",
        "All Democrat Error:  0.0\n",
        "All Republican Error:  0.0\n"
       ]
      },
      {
       "metadata": {},
       "output_type": "display_data",
       "png": "[encoded data removed]",
       "text": [
        "<matplotlib.figure.Figure at 0x10e90de90>"
       ]
      }
     ],
     "prompt_number": 470
    },
    {
     "cell_type": "heading",
     "level": 2,
     "metadata": {},
     "source": [
      "Challenge #6 - "
     ]
    },
    {
     "cell_type": "markdown",
     "metadata": {},
     "source": [
      "Plot the accuracies as a function of k. Since k only matters for KNN, your logistic regression accuracy, 'democrat' predictor accuracy and 'republican' predictor accuracy will stay the same over all k, so each of these three will be a horizontal line. But the KNN accuracy will change with k."
     ]
    },
    {
     "cell_type": "code",
     "collapsed": false,
     "input": [
      "dem_accuracy_list = [dem_accuracy for i in accuracy]\n",
      "rep_accuracy_list = [rep_accuracy for i in accuracy]\n",
      "logistic_regression_accuracy_list = [logistic_regression_accuracy for i in accuracy]\n",
      "\n",
      "plt.plot(range(1, 326), accuracy, label='KNN')\n",
      "plt.plot(range(1, 326), logistic_regression_accuracy_list, label='Logistic Regression')\n",
      "plt.plot(range(1, 326), dem_accuracy_list, label='All Democrats')\n",
      "plt.plot(range(1, 326), rep_accuracy_list, label='All Republicans')\n",
      "plt.legend(bbox_to_anchor=(0., 1.02, 1., .102), loc=3,\n",
      "           ncol=2, mode=\"expand\", borderaxespad=0.)\n"
     ],
     "language": "python",
     "metadata": {},
     "outputs": [
      {
       "metadata": {},
       "output_type": "pyout",
       "prompt_number": 471,
       "text": [
        "<matplotlib.legend.Legend at 0x10ea584d0>"
       ]
      },
      {
       "metadata": {},
       "output_type": "display_data",
       "png": "[encoded data removed]",
       "text": [
        "<matplotlib.figure.Figure at 0x10ebb59d0>"
       ]
      }
     ],
     "prompt_number": 471
    },
    {
     "cell_type": "heading",
     "level": 2,
     "metadata": {},
     "source": [
      "Challenge #7 - "
     ]
    },
    {
     "cell_type": "markdown",
     "metadata": {},
     "source": [
      "Plot a learning curve for the logistic regression model. But instead of going through the painstaking steps of doing it yourself, use this function:\n",
      "from sklearn.learning_curve import learning_curve\n",
      "\n",
      "This will give you the m, training errors and testing errors. All you need to do is plot them. You don't even need to give it separate training/test sets. It will do crossvalidation all by itself. Easy, isn't it? : )\n",
      "\n",
      "Remember, since it does cross-validation, it doesn't have a single training error or test error per m value. Instead, it has one for each fold (separate partition) of the cross validation. A good idea is to take the mean of these errors from different folds. This gives you a meaningful single number per m. What I mean is that doing something like: train_cv_err = np.mean(train_err,axis=1) test_cv_err = np.mean(ts_err,axis=1)\n",
      "\n",
      "before plotting m vs train_cv_err and m vs test_cv_err, where train_err and test_err are the vectors returned by the learning curve function. The np.mean(...., axis=1) means take the mean along axis 1 (axis 1 is the columns axis-- for each row, you have a bunch of columns, each corresponding to a cross validation fold, you are averaging these columns for each row).\n",
      "\n",
      "Draw the learning curve for KNN with the best k value as well."
     ]
    },
    {
     "cell_type": "code",
     "collapsed": false,
     "input": [
      "logistic_train_sizes, logistic_train_scores, logistic_test_scores = learning_curve(logistic_model, df[headers[1:]], df['Party'], train_sizes=np.linspace(.1, 1.0))\n",
      "knn_train_sizes, knn_train_scores, knn_test_scores = learning_curve(neigh, df[headers[1:]], df['Party'], train_sizes=np.linspace(.1, 1.0))"
     ],
     "language": "python",
     "metadata": {},
     "outputs": [],
     "prompt_number": 405
    },
    {
     "cell_type": "code",
     "collapsed": false,
     "input": [
      "plt.plot(logistic_train_sizes, np.mean(logistic_train_scores, axis=1), label=\"logistic training\")\n",
      "plt.plot(logistic_train_sizes, np.mean(logistic_test_scores, axis=1), label=\"logistic testing\")\n",
      "plt.legend(bbox_to_anchor=(0., 1.02, 1., .102), loc=3,\n",
      "           ncol=2, mode=\"expand\", borderaxespad=0.)"
     ],
     "language": "python",
     "metadata": {},
     "outputs": [
      {
       "metadata": {},
       "output_type": "pyout",
       "prompt_number": 406,
       "text": [
        "<matplotlib.legend.Legend at 0x10f81af50>"
       ]
      },
      {
       "metadata": {},
       "output_type": "display_data",
       "png": "[encoded data removed]",
       "text": [
        "<matplotlib.figure.Figure at 0x10e622fd0>"
       ]
      }
     ],
     "prompt_number": 406
    },
    {
     "cell_type": "code",
     "collapsed": false,
     "input": [
      "plt.plot(knn_train_sizes, np.mean(knn_train_scores, axis=1), label=\"knn training\")\n",
      "plt.plot(knn_train_sizes, np.mean(knn_test_scores, axis=1), label=\"knn testing\")\n",
      "plt.legend(bbox_to_anchor=(0., 1.02, 1., .102), loc=3,\n",
      "           ncol=2, mode=\"expand\", borderaxespad=0.)"
     ],
     "language": "python",
     "metadata": {},
     "outputs": [
      {
       "metadata": {},
       "output_type": "pyout",
       "prompt_number": 407,
       "text": [
        "<matplotlib.legend.Legend at 0x10f15a410>"
       ]
      },
      {
       "metadata": {},
       "output_type": "display_data",
       "png": "[encoded data removed]",
       "text": [
        "<matplotlib.figure.Figure at 0x10f947910>"
       ]
      }
     ],
     "prompt_number": 407
    },
    {
     "cell_type": "markdown",
     "metadata": {},
     "source": []
    },
    {
     "cell_type": "heading",
     "level": 2,
     "metadata": {},
     "source": [
      "Challenge #8 - "
     ]
    },
    {
     "cell_type": "markdown",
     "metadata": {},
     "source": [
      "This is a preview of many other classification algorithms that we will go over. Scikit.learn has the same interface for all of these, so you can use them exactly the same way as you did LogisticRegression and KNeighborsClassifier. Use each of these to classify your data and print the test accuracy of each:\n",
      "\n",
      "Gaussian Naive Bayes \n",
      "from sklearn.naive_bayes import GaussianNB\n",
      "\n",
      "SVM (Support Vector Machine) Classifier\n",
      "from sklearn.svm import SVC\n",
      "\n",
      "Decision Tree\n",
      "from sklearn.tree import DecisionTreeClassifier\n",
      "\n",
      "Random Forest\n",
      "from sklearn.ensemble import RandomForestClassifier"
     ]
    },
    {
     "cell_type": "code",
     "collapsed": false,
     "input": [
      "def plot_error(model, X, y):\n",
      "    train_sizes, train_scores, test_scores = learning_curve(model, X, y, train_sizes=np.linspace(.1, 1.0))\n",
      "    plt.plot(train_sizes, np.mean(train_scores, axis=1), label=\"training\")\n",
      "    plt.plot(train_sizes, np.mean(test_scores, axis=1), label=\"testing\")\n",
      "    plt.legend(bbox_to_anchor=(0., 1.02, 1., .102), loc=3, ncol=2, mode=\"expand\", borderaxespad=0.)"
     ],
     "language": "python",
     "metadata": {},
     "outputs": [],
     "prompt_number": 408
    },
    {
     "cell_type": "code",
     "collapsed": false,
     "input": [
      "gauss = GaussianNB()\n",
      "svc = SVC()\n",
      "decision_tree = DecisionTreeClassifier()\n",
      "random_forest = RandomForestClassifier()\n",
      "X = df[headers[1:]]\n",
      "y = df['Party']"
     ],
     "language": "python",
     "metadata": {},
     "outputs": [],
     "prompt_number": 409
    },
    {
     "cell_type": "code",
     "collapsed": false,
     "input": [
      "plot_error(gauss, X, y)"
     ],
     "language": "python",
     "metadata": {},
     "outputs": [
      {
       "metadata": {},
       "output_type": "display_data",
       "png": "[encoded data removed]",
       "text": [
        "<matplotlib.figure.Figure at 0x10f8a2110>"
       ]
      }
     ],
     "prompt_number": 410
    },
    {
     "cell_type": "code",
     "collapsed": false,
     "input": [
      "plot_error(svc, X, y)"
     ],
     "language": "python",
     "metadata": {},
     "outputs": [
      {
       "metadata": {},
       "output_type": "display_data",
       "png": "[encoded data removed]",
       "text": [
        "<matplotlib.figure.Figure at 0x10f1b7c50>"
       ]
      }
     ],
     "prompt_number": 411
    },
    {
     "cell_type": "code",
     "collapsed": false,
     "input": [
      "plot_error(decision_tree, X, y)"
     ],
     "language": "python",
     "metadata": {},
     "outputs": [
      {
       "metadata": {},
       "output_type": "display_data",
       "png": "[encoded data removed]",
       "text": [
        "<matplotlib.figure.Figure at 0x10aab6550>"
       ]
      }
     ],
     "prompt_number": 412
    },
    {
     "cell_type": "code",
     "collapsed": false,
     "input": [
      "plot_error(random_forest, X, y)"
     ],
     "language": "python",
     "metadata": {},
     "outputs": [
      {
       "metadata": {},
       "output_type": "display_data",
       "png": "[encoded data removed]",
       "text": [
        "<matplotlib.figure.Figure at 0x10bfe7e90>"
       ]
      }
     ],
     "prompt_number": 413
    },
    {
     "cell_type": "heading",
     "level": 2,
     "metadata": {},
     "source": [
      "Challenge #9 -"
     ]
    },
    {
     "cell_type": "markdown",
     "metadata": {},
     "source": [
      "There is actually a way to do cross validation quickly to get your accuracy results for an algorithm, without separating training and test yourself:\n",
      "from sklearn.cross_validation import cross_val_score\n",
      "\n",
      "Just like the learning_curve function, this takes a classifier object, X and Y. Returns accuracy (or whatever score you prefer by using the scoring keyword argument). Of course, it will return a score for each cross validation fold, so to get the generalized accuracy, you need to take the mean of what it returns.\n",
      "\n",
      "Use this function to calculate the cross validation score of each of the classifiers you tried before."
     ]
    },
    {
     "cell_type": "code",
     "collapsed": false,
     "input": [
      "scores = cross_val_score(gauss, X, y)\n",
      "print \"Gauss: \", np.mean(scores)\n",
      "\n",
      "scores = cross_val_score(svc, X, y)\n",
      "print \"SVC: \", np.mean(scores)\n",
      "\n",
      "scores = cross_val_score(decision_tree, X, y)\n",
      "print \"Decision Tree: \", np.mean(scores)\n",
      "\n",
      "scores = cross_val_score(random_forest, X, y)\n",
      "print \"Random Forest: \", np.mean(scores)"
     ],
     "language": "python",
     "metadata": {},
     "outputs": [
      {
       "output_type": "stream",
       "stream": "stdout",
       "text": [
        "Gauss:  0.931034482759\n",
        "SVC:  0.954022988506\n",
        "Decision Tree:  0.949425287356\n",
        "Random Forest:  0.96091954023\n"
       ]
      }
     ],
     "prompt_number": 414
    },
    {
     "cell_type": "heading",
     "level": 2,
     "metadata": {},
     "source": [
      "Challenge #10 -"
     ]
    },
    {
     "cell_type": "markdown",
     "metadata": {},
     "source": [
      "Instead of 'democrat' or 'republican', can you predict the vote of a representative based on their other votes?\n",
      "\n",
      "Reload the data from scratch. Convert y-->1, n-->0. Choose one vote. Build a classifier (logistic regression or KNN), that uses the other votes (do not use the party as a feature) to predict if the vote will be 1 or 0.\n",
      "\n",
      "Convert each ? to the mode of the column (if a senator has not voted, make their vote 1 if most others voted 1, make it 0 if most others voted 0).\n",
      "\n",
      "Calculate the cross validation accuracy of your classifier for predicting how each representative will vote on the issue."
     ]
    },
    {
     "cell_type": "code",
     "collapsed": false,
     "input": [
      "df2 = pd.read_csv('house-votes-84.data.txt',names=['Party','handicapped-infants','water-project-cost-sharing',\n",
      "                                             'adoption-of-the-budget-resolution','physician-fee-freeze','el-salvador-aid',\n",
      "                                             'religious-groups-in-schools','anti-satellite-test-ban','aid-to-nicaraguan-contras'\n",
      "                                             ,'mx-missile','immigration','synfuels-corporation-cutback','education-spending'\n",
      "                                             ,'superfund-right-to-sue','crime','duty-free-exports',\n",
      "                                             'export-administration-act-south-africa'])\n",
      "\n",
      "df2.replace('y',1.0,True)\n",
      "df2.replace('n',0.0,True)\n",
      "df2.replace('?',np.nan,True)\n",
      "df2 = df2.fillna(df2.mode().iloc[0,:])\n",
      "#df2"
     ],
     "language": "python",
     "metadata": {},
     "outputs": [],
     "prompt_number": 415
    },
    {
     "cell_type": "code",
     "collapsed": false,
     "input": [
      "X_2 = df2[headers[1:-1]]\n",
      "y_2 = df2[headers[-1:][0]]\n",
      "\n",
      "logistic_model_2 = LogisticRegression()\n",
      "logistic_model_2.fit(X_2, y_2)"
     ],
     "language": "python",
     "metadata": {},
     "outputs": [
      {
       "metadata": {},
       "output_type": "pyout",
       "prompt_number": 416,
       "text": [
        "LogisticRegression(C=1.0, class_weight=None, dual=False, fit_intercept=True,\n",
        "          intercept_scaling=1, penalty='l2', random_state=None, tol=0.0001)"
       ]
      }
     ],
     "prompt_number": 416
    },
    {
     "cell_type": "code",
     "collapsed": false,
     "input": [
      "scores = cross_val_score(logistic_model_2, X_2, y_2)\n",
      "print np.mean(scores)"
     ],
     "language": "python",
     "metadata": {},
     "outputs": [
      {
       "output_type": "stream",
       "stream": "stdout",
       "text": [
        "0.848223595584\n"
       ]
      }
     ],
     "prompt_number": 417
    },
    {
     "cell_type": "heading",
     "level": 2,
     "metadata": {},
     "source": [
      "Challenge #11 -"
     ]
    },
    {
     "cell_type": "markdown",
     "metadata": {},
     "source": [
      "Back to your movie data! Choose one categoric feature to predict. I chose MPAA Rating, but genre, month, etc. are all decent choices. If you don't have any non-numeric features, you can make two bins out of a numeric one (like \"Runtime>100 mins\" and \"Runtime<=100 mins\")\n",
      "\n",
      "Make a bar graph of how many of each movie there is in the data. For example, with Ratings, show how many G, PG, PG-13, R movies there are, etc. (basically a histogram of your labels).\n",
      "\n",
      "Predict your using KNN and logistic regression. Calculate their accuracies.\n",
      "\n",
      "Make a baseline stupid predictor that always predicts the label that is present the most in the data. Calculate its accuracy on a test set.\n",
      "\n",
      "How much better do KNN and logistic regression do versus the baseline?\n",
      "\n",
      "What are the coefficients of logistic regression? Which features affect the outcome how?"
     ]
    },
    {
     "cell_type": "code",
     "collapsed": false,
     "input": [
      "with open(\"database_file\", \"rb\") as database_file:\n",
      "    movie_data = pd.DataFrame(pickle.load(database_file))    \n",
      "    \n",
      "movie_data.columns = [i.replace(' ', '_') for i in list(movie_data.columns.values)]\n",
      "movie_data = movie_data.dropna(subset=['release_date'])\n",
      "movie_data['release_month'] = [i.strftime(\"%b\") for i in movie_data['release_date']]\n",
      "cleaned_movie_data = movie_data[['budget','domestic_total_gross','opening_weekend','runtime','release_month']].dropna(how=\"any\")\n",
      "#movie_data\n"
     ],
     "language": "python",
     "metadata": {},
     "outputs": [],
     "prompt_number": 418
    },
    {
     "cell_type": "code",
     "collapsed": false,
     "input": [
      "months = defaultdict(int)\n",
      "\n",
      "for i in cleaned_movie_data['release_month']:\n",
      "    months[i] += 1\n",
      "    \n",
      "#print months\n",
      "\n",
      "plt.bar(range(len(months)), months.values(), align='center')\n",
      "plt.xticks(range(len(months)), months.keys())"
     ],
     "language": "python",
     "metadata": {},
     "outputs": [
      {
       "metadata": {},
       "output_type": "pyout",
       "prompt_number": 419,
       "text": [
        "([<matplotlib.axis.XTick at 0x10ea19510>,\n",
        "  <matplotlib.axis.XTick at 0x10ea19e10>,\n",
        "  <matplotlib.axis.XTick at 0x10fbad610>,\n",
        "  <matplotlib.axis.XTick at 0x10f109e50>,\n",
        "  <matplotlib.axis.XTick at 0x10f0aeb90>,\n",
        "  <matplotlib.axis.XTick at 0x10f0ae250>,\n",
        "  <matplotlib.axis.XTick at 0x10f0dcd90>,\n",
        "  <matplotlib.axis.XTick at 0x10f0dc650>,\n",
        "  <matplotlib.axis.XTick at 0x10f750990>,\n",
        "  <matplotlib.axis.XTick at 0x10f750550>,\n",
        "  <matplotlib.axis.XTick at 0x10f045450>,\n",
        "  <matplotlib.axis.XTick at 0x10f045bd0>],\n",
        " <a list of 12 Text xticklabel objects>)"
       ]
      },
      {
       "metadata": {},
       "output_type": "display_data",
       "png": "[encoded data removed]",
       "text": [
        "<matplotlib.figure.Figure at 0x10e6e88d0>"
       ]
      }
     ],
     "prompt_number": 419
    },
    {
     "cell_type": "code",
     "collapsed": false,
     "input": [
      "movie_training_set, movie_testing_set = train_test_split(cleaned_movie_data, test_size=0.25)\n",
      "\n",
      "training_dataframe = pd.DataFrame(movie_training_set, columns=list(cleaned_movie_data.columns.values))\n",
      "testing_dataframe = pd.DataFrame(movie_testing_set, columns=list(cleaned_movie_data.columns.values))\n",
      "movie_X = training_dataframe[['budget','domestic_total_gross','opening_weekend','runtime']]\n",
      "movie_y = training_dataframe['release_month']\n",
      "#print movie_X, movie_y"
     ],
     "language": "python",
     "metadata": {},
     "outputs": [],
     "prompt_number": 420
    },
    {
     "cell_type": "code",
     "collapsed": false,
     "input": [
      "movie_accuracy = []\n",
      "\n",
      "for k in range(1, 100):\n",
      "    movie_neigh = KNeighborsClassifier(n_neighbors=k)\n",
      "    movie_neigh.fit(movie_X, movie_y) \n",
      "    y_pred = movie_neigh.predict(testing_dataframe[['budget','domestic_total_gross','opening_weekend','runtime']])\n",
      "    y_true = testing_dataframe['release_month']\n",
      "    movie_accuracy.append(accuracy_score(y_true, y_pred))\n",
      "\n",
      "plt.plot(range(1, 100), movie_accuracy)\n",
      "print \"Error: \", (max(movie_accuracy))\n",
      "print \"K: \", [i for i, j in enumerate(movie_accuracy) if j == max(movie_accuracy)]"
     ],
     "language": "python",
     "metadata": {},
     "outputs": [
      {
       "output_type": "stream",
       "stream": "stdout",
       "text": [
        "Error:  0.149031296572\n",
        "K:  [85, 86]\n"
       ]
      },
      {
       "metadata": {},
       "output_type": "display_data",
       "png": "[encoded data removed]",
       "text": [
        "<matplotlib.figure.Figure at 0x10ea19250>"
       ]
      }
     ],
     "prompt_number": 421
    },
    {
     "cell_type": "code",
     "collapsed": false,
     "input": [
      "movie_neigh = KNeighborsClassifier(n_neighbors=movie_accuracy.index(max(movie_accuracy)))\n",
      "movie_neigh.fit(movie_X,movie_y)\n",
      "movie_logistic = LogisticRegression()\n",
      "movie_logistic.fit(movie_X,movie_y)"
     ],
     "language": "python",
     "metadata": {},
     "outputs": [
      {
       "metadata": {},
       "output_type": "pyout",
       "prompt_number": 422,
       "text": [
        "LogisticRegression(C=1.0, class_weight=None, dual=False, fit_intercept=True,\n",
        "          intercept_scaling=1, penalty='l2', random_state=None, tol=0.0001)"
       ]
      }
     ],
     "prompt_number": 422
    },
    {
     "cell_type": "code",
     "collapsed": false,
     "input": [
      "test_X = testing_dataframe[['budget','domestic_total_gross','opening_weekend','runtime']]\n",
      "test_y = testing_dataframe['release_month']\n",
      "\n",
      "test_X[['budget']] = test_X[['budget']].astype(float)\n",
      "test_X[['domestic_total_gross']] = test_X[['domestic_total_gross']].astype(float)\n",
      "test_X[['opening_weekend']] = test_X[['opening_weekend']].astype(float)\n",
      "test_X[['runtime']] = test_X[['runtime']].astype(float)\n",
      "\n",
      "movie_neigh_pred = movie_neigh.predict(test_X)\n",
      "movie_logistic_pred = movie_logistic.predict(test_X)\n",
      "movie_true = test_y\n",
      "\n",
      "movie_neigh_accuracy = accuracy_score(movie_true, movie_neigh_pred)\n",
      "movie_logistic_accuracy = accuracy_score(movie_true, movie_logistic_pred)\n"
     ],
     "language": "python",
     "metadata": {},
     "outputs": [],
     "prompt_number": 423
    },
    {
     "cell_type": "code",
     "collapsed": false,
     "input": [
      "def predict_month(data, dictionary):\n",
      "    return_list = []\n",
      "    inverse = [(value, key) for key, value in dictionary.items()]\n",
      "    prediction = max(inverse)[1]\n",
      "    for i in range(0, len(data)):\n",
      "        return_list.append(prediction)\n",
      "    return return_list\n",
      "\n",
      "movie_dumb_pred = predict_month(test_X, months)\n",
      "movie_dumb_accuracy = accuracy_score(movie_true, movie_dumb_pred)"
     ],
     "language": "python",
     "metadata": {},
     "outputs": [],
     "prompt_number": 424
    },
    {
     "cell_type": "code",
     "collapsed": false,
     "input": [
      "print \"KNN Accuracy: \", movie_neigh_accuracy\n",
      "print \"Logistic Accuracy: \", movie_logistic_accuracy\n",
      "print \"Dumb: \", movie_dumb_accuracy"
     ],
     "language": "python",
     "metadata": {},
     "outputs": [
      {
       "output_type": "stream",
       "stream": "stdout",
       "text": [
        "KNN Accuracy:  0.135618479881\n",
        "Logistic Accuracy:  0.137108792846\n",
        "Dumb:  0.105812220566\n"
       ]
      }
     ],
     "prompt_number": 425
    },
    {
     "cell_type": "code",
     "collapsed": false,
     "input": [
      "coefficient_map = zip(['budget','domestic_total_gross','opening_weekend','runtime'],movie_logistic.coef_)\n",
      "for k, v in coefficient_map:\n",
      "    print k, \": \", np.mean(v)"
     ],
     "language": "python",
     "metadata": {},
     "outputs": [
      {
       "output_type": "stream",
       "stream": "stdout",
       "text": [
        "budget :  -4.67808693906e-09\n",
        "domestic_total_gross :  -1.08881275258e-08\n",
        "opening_weekend :  -4.34744010872e-08\n",
        "runtime :  -8.25981103145e-09\n"
       ]
      }
     ],
     "prompt_number": 426
    },
    {
     "cell_type": "markdown",
     "metadata": {},
     "source": [
      "Opening weekend seems to be the most telling feature.  This makes sense if you consider that movie performance is probably cyclical."
     ]
    },
    {
     "cell_type": "heading",
     "level": 2,
     "metadata": {},
     "source": [
      "Challenge #12 - "
     ]
    },
    {
     "cell_type": "markdown",
     "metadata": {},
     "source": [
      "Now you are a classification master. The representative votes dataset only had 0s and 1s. Let's just swiftly tackle the breast cancer surgery data we talked about in class.\n",
      "\n",
      "What is the average and standard deviation of the age of all of the patients? What is the average and standard deviation of the age of those patients that survived 5 or more years after surgery?\n",
      "What is the average and standard deviation of the age of those patients who survived fewer than 5 years after surgery?\n",
      "Plot a histogram of the ages side by side with a histogram of the number of axillary nodes.\n",
      "What is the earliest year of surgery in this dataset?\n",
      "What is the most recent year of surgery?\n",
      "\n",
      "Use logistic regression to predict survival after 5 years. How well does your model do? What are the coefficients of logistic regression? Which features affect the outcome how?\n",
      "\n",
      "Draw the learning curve for logistic regression in this case."
     ]
    },
    {
     "cell_type": "code",
     "collapsed": false,
     "input": [
      "haberman_df = pd.read_csv('haberman.data.txt',names=['Age','OperationDate','PositiveNodes','SurvivalStatus'])\n",
      "haberman_df = haberman_df.dropna(how='any')\n",
      "#haberman_df"
     ],
     "language": "python",
     "metadata": {},
     "outputs": [],
     "prompt_number": 545
    },
    {
     "cell_type": "code",
     "collapsed": false,
     "input": [
      "mean_age = haberman_df['Age'].mean()\n",
      "median_age = haberman_df['Age'].median()\n",
      "std_age = haberman_df['Age'].std()\n",
      "\n",
      "print \"The mean age is: \", mean_age\n",
      "print \"The standard deviation of age is: \", std_age\n",
      "print \"The median age is: \", median_age\n",
      "\n",
      "mean_age_five_plus = haberman_df[haberman_df['SurvivalStatus'] == 1]['Age'].mean()\n",
      "median_age_five_plus = haberman_df[haberman_df['SurvivalStatus'] == 1]['Age'].median()\n",
      "std_age_five_plus = haberman_df[haberman_df['SurvivalStatus'] == 1]['Age'].std()\n",
      "\n",
      "print \"The mean age for survivors is: \", mean_age_five_plus\n",
      "print \"The standard deviation of age for survivors is: \", std_age_five_plus\n",
      "print \"The median age for survivors is: \", median_age_five_plus\n",
      "\n",
      "mean_age_five_minus = haberman_df[haberman_df['SurvivalStatus'] == 2]['Age'].mean()\n",
      "median_age_five_minus = haberman_df[haberman_df['SurvivalStatus'] == 2]['Age'].median()\n",
      "std_age_five_minus = haberman_df[haberman_df['SurvivalStatus'] == 2]['Age'].std()\n",
      "\n",
      "print \"The mean age for non survivors is: \", mean_age_five_minus\n",
      "print \"The standard deviation of age for non survivors is: \", std_age_five_minus\n",
      "print \"The median age for non survivors is: \", median_age_five_minus"
     ],
     "language": "python",
     "metadata": {},
     "outputs": [
      {
       "output_type": "stream",
       "stream": "stdout",
       "text": [
        "The mean age is:  52.4575163399\n",
        "The standard deviation of age is:  10.8034523493\n",
        "The median age is:  52.0\n",
        "The mean age for survivors is:  52.0177777778\n",
        "The standard deviation of age for survivors is:  11.0121541799\n",
        "The median age for survivors is:  52.0\n",
        "The mean age for non survivors is:  53.6790123457\n",
        "The standard deviation of age for non survivors is:  10.1671372083\n",
        "The median age for non survivors is:  53.0\n"
       ]
      }
     ],
     "prompt_number": 546
    },
    {
     "cell_type": "code",
     "collapsed": false,
     "input": [
      "pd.DataFrame.hist(haberman_df, column='Age')\n",
      "pd.DataFrame.hist(haberman_df, column='PositiveNodes')"
     ],
     "language": "python",
     "metadata": {},
     "outputs": [
      {
       "metadata": {},
       "output_type": "pyout",
       "prompt_number": 547,
       "text": [
        "array([[<matplotlib.axes._subplots.AxesSubplot object at 0x10cf66b50>]], dtype=object)"
       ]
      },
      {
       "metadata": {},
       "output_type": "display_data",
       "png": "[encoded data removed]",
       "text": [
        "<matplotlib.figure.Figure at 0x10fa92bd0>"
       ]
      },
      {
       "metadata": {},
       "output_type": "display_data",
       "png": "[encoded data removed]",
       "text": [
        "<matplotlib.figure.Figure at 0x10fbfe250>"
       ]
      }
     ],
     "prompt_number": 547
    },
    {
     "cell_type": "code",
     "collapsed": false,
     "input": [
      "print \"The earliest year of surgery is: \", 1900 + min(haberman_df['OperationDate'])"
     ],
     "language": "python",
     "metadata": {},
     "outputs": [
      {
       "output_type": "stream",
       "stream": "stdout",
       "text": [
        "The earliest year of surgery is:  1958\n"
       ]
      }
     ],
     "prompt_number": 548
    },
    {
     "cell_type": "code",
     "collapsed": false,
     "input": [
      "print \"The latest year of surgery is: \", 1900 + max(haberman_df['OperationDate'])"
     ],
     "language": "python",
     "metadata": {},
     "outputs": [
      {
       "output_type": "stream",
       "stream": "stdout",
       "text": [
        "The latest year of surgery is:  1969\n"
       ]
      }
     ],
     "prompt_number": 549
    },
    {
     "cell_type": "code",
     "collapsed": false,
     "input": [
      "haberman_training_set, haberman_testing_set = train_test_split(haberman_df, test_size=0.25)\n",
      "haberman_training_set = pd.DataFrame(haberman_training_set, columns=['Age','OperationDate','PositiveNodes','SurvivalStatus'])\n",
      "haberman_testing_set = pd.DataFrame(haberman_testing_set, columns=['Age','OperationDate','PositiveNodes','SurvivalStatus'])"
     ],
     "language": "python",
     "metadata": {},
     "outputs": [],
     "prompt_number": 550
    },
    {
     "cell_type": "code",
     "collapsed": false,
     "input": [
      "haberman_logistic_model = LogisticRegression()\n",
      "haberman_logistic_model.fit(haberman_training_set[['Age','OperationDate','PositiveNodes']], haberman_training_set['SurvivalStatus'])"
     ],
     "language": "python",
     "metadata": {},
     "outputs": [
      {
       "metadata": {},
       "output_type": "pyout",
       "prompt_number": 551,
       "text": [
        "LogisticRegression(C=1.0, class_weight=None, dual=False, fit_intercept=True,\n",
        "          intercept_scaling=1, penalty='l2', random_state=None, tol=0.0001)"
       ]
      }
     ],
     "prompt_number": 551
    },
    {
     "cell_type": "code",
     "collapsed": false,
     "input": [
      "haberman_predictions = haberman_logistic_model.predict(haberman_testing_set[['Age','OperationDate','PositiveNodes']])\n",
      "haberman_actuals = haberman_testing_set['SurvivalStatus']\n",
      "haberman_accuracy = accuracy_score(haberman_actuals, haberman_predictions)\n",
      "\n",
      "print \"Logistic Regression has an accuracy on this data set of: \", haberman_accuracy"
     ],
     "language": "python",
     "metadata": {},
     "outputs": [
      {
       "output_type": "stream",
       "stream": "stdout",
       "text": [
        "Logistic Regression has an accuracy on this data set of:  0.766233766234\n"
       ]
      }
     ],
     "prompt_number": 552
    },
    {
     "cell_type": "code",
     "collapsed": false,
     "input": [
      "haberman_coefficient_map = zip(['Age','OperationDate','PositiveNodes'],haberman_logistic_model.coef_.tolist()[0])\n",
      "haberman_coefficient_map"
     ],
     "language": "python",
     "metadata": {},
     "outputs": [
      {
       "metadata": {},
       "output_type": "pyout",
       "prompt_number": 553,
       "text": [
        "[('Age', 0.012166093425681984),\n",
        " ('OperationDate', -0.027825212729933015),\n",
        " ('PositiveNodes', 0.07249355022164525)]"
       ]
      }
     ],
     "prompt_number": 553
    },
    {
     "cell_type": "markdown",
     "metadata": {},
     "source": [
      "The number of positive nodes seems to be the feature that most affects the outcome.  Age also contributes to the outcome in that the older the person the less likely they are to survive.  The earier the operation date, the more likely it is that the person survived."
     ]
    },
    {
     "cell_type": "code",
     "collapsed": false,
     "input": [
      "plot_error(haberman_logistic_model, haberman_df[['Age','OperationDate','PositiveNodes']], haberman_df['SurvivalStatus'])\n"
     ],
     "language": "python",
     "metadata": {},
     "outputs": [
      {
       "metadata": {},
       "output_type": "display_data",
       "png": "[encoded data removed]",
       "text": [
        "<matplotlib.figure.Figure at 0x10cef3510>"
       ]
      }
     ],
     "prompt_number": 554
    },
    {
     "cell_type": "heading",
     "level": 2,
     "metadata": {},
     "source": [
      "Challenge #1 - 9/29/2014"
     ]
    },
    {
     "cell_type": "markdown",
     "metadata": {},
     "source": [
      "For the house representatives data set, calculate the accuracy, precision, recall and f1 scores of each classifier you built.\n",
      "\n",
      "Models:\n",
      " - neigh\n",
      " - logistic_model\n",
      " - gauss \n",
      " - svc\n",
      " - decision_tree \n",
      " - random_forest \n",
      " - dumb"
     ]
    },
    {
     "cell_type": "code",
     "collapsed": false,
     "input": [
      "gauss.fit(X, y)\n",
      "gauss_pred = gauss.predict(testing_set[headers[1:]])\n",
      "gauss_true = testing_set[headers[:1][0]]\n",
      "\n",
      "svc.fit(X, y)\n",
      "svc_pred = svc.predict(testing_set[headers[1:]])\n",
      "svc_true = testing_set[headers[:1][0]]\n",
      "\n",
      "decision_tree.fit(X, y)\n",
      "decision_tree_pred = decision_tree.predict(testing_set[headers[1:]])\n",
      "decision_tree_true = testing_set[headers[:1][0]]\n",
      "\n",
      "random_forest.fit(X, y)\n",
      "random_forest_pred = random_forest.predict(testing_set[headers[1:]])\n",
      "random_forest_true = testing_set[headers[:1][0]]\n",
      "\n",
      "dumb_pred = [1 for i in testing_set[headers[:1][0]]]\n",
      "dumb_true = testing_set[headers[:1][0]]"
     ],
     "language": "python",
     "metadata": {},
     "outputs": [],
     "prompt_number": 437
    },
    {
     "cell_type": "code",
     "collapsed": false,
     "input": [
      "knn_accuracy = accuracy_score(neigh_true, neigh_pred)\n",
      "knn_precision = precision_score(neigh_true, neigh_pred)\n",
      "knn_recall = recall_score(neigh_true, neigh_pred)\n",
      "knn_f1 = f1_score(neigh_true, neigh_pred)\n",
      "\n",
      "log_accuracy = accuracy_score(log_true, log_pred)\n",
      "log_precision = precision_score(log_true, log_pred)\n",
      "log_recall = recall_score(log_true, log_pred)\n",
      "log_f1 = f1_score(log_true, log_pred)\n",
      "\n",
      "gauss_accuracy = accuracy_score(gauss_true, gauss_pred)\n",
      "gauss_precision = precision_score(gauss_true, gauss_pred)\n",
      "gauss_recall = recall_score(gauss_true, gauss_pred)\n",
      "gauss_f1 = f1_score(gauss_true, gauss_pred)\n",
      "\n",
      "svc_accuracy = accuracy_score(svc_true, svc_pred)\n",
      "svc_precision = precision_score(svc_true, svc_pred)\n",
      "svc_recall = recall_score(svc_true, svc_pred) \n",
      "svc_f1 = f1_score(svc_true, svc_pred)\n",
      "\n",
      "decision_accuracy = accuracy_score(decision_tree_true, decision_tree_pred)\n",
      "decision_precision = precision_score(decision_tree_true, decision_tree_pred)\n",
      "decision_recall = recall_score(decision_tree_true, decision_tree_pred) \n",
      "decision_f1 = f1_score(decision_tree_true, decision_tree_pred)\n",
      "\n",
      "random_forest_accuracy = accuracy_score(random_forest_true, random_forest_pred)\n",
      "random_forest_precision = precision_score(random_forest_true, random_forest_pred)\n",
      "random_forest_recall = recall_score(random_forest_true, random_forest_pred) \n",
      "random_forest_f1 = f1_score(random_forest_true, random_forest_pred)\n",
      "\n",
      "dumb_accuracy = accuracy_score(dumb_true, dumb_pred)\n",
      "dumb_precision = precision_score(dumb_true, dumb_pred)\n",
      "dumb_recall = recall_score(dumb_true, dumb_pred) \n",
      "dumb_f1 =f1_score(dumb_true, dumb_pred)"
     ],
     "language": "python",
     "metadata": {},
     "outputs": [],
     "prompt_number": 438
    },
    {
     "cell_type": "code",
     "collapsed": false,
     "input": [
      "print \"KNN:\"\n",
      "print \" -- Accuracy: \", knn_accuracy\n",
      "print \" -- Precision: \", knn_precision\n",
      "print \" -- Recall: \", knn_recall \n",
      "print \" -- F1: \", knn_f1, \"\\n\"\n",
      "\n",
      "print \"Logistic:\"\n",
      "print \" -- Accuracy: \", log_accuracy\n",
      "print \" -- Precision: \", log_precision\n",
      "print \" -- Recall: \", log_recall \n",
      "print \" -- F1: \", log_f1, \"\\n\"\n",
      "\n",
      "print \"Gaussian:\"\n",
      "print \" -- Accuracy: \", gauss_accuracy\n",
      "print \" -- Precision: \", gauss_precision\n",
      "print \" -- Recall: \", gauss_recall \n",
      "print \" -- F1: \", gauss_f1, \"\\n\"\n",
      "\n",
      "print \"SVC:\"\n",
      "print \" -- Accuracy: \", svc_accuracy\n",
      "print \" -- Precision: \", svc_precision\n",
      "print \" -- Recall: \", svc_recall \n",
      "print \" -- F1: \", svc_f1, \"\\n\"\n",
      "\n",
      "print \"Decision Tree:\"\n",
      "print \" -- Accuracy: \", decision_accuracy\n",
      "print \" -- Precision: \", decision_precision\n",
      "print \" -- Recall: \", decision_recall \n",
      "print \" -- F1: \", decision_f1, \"\\n\"\n",
      "\n",
      "print \"Random Forest:\"\n",
      "print \" -- Accuracy: \", random_forest_accuracy\n",
      "print \" -- Precision: \", random_forest_precision\n",
      "print \" -- Recall: \", random_forest_recall \n",
      "print \" -- F1: \", random_forest_f1, \"\\n\"\n",
      "\n",
      "print \"Dumb:\"\n",
      "print \" -- Accuracy: \", dumb_accuracy\n",
      "print \" -- Precision: \", dumb_precision\n",
      "print \" -- Recall: \", dumb_recall \n",
      "print \" -- F1: \", dumb_f1, \"\\n\""
     ],
     "language": "python",
     "metadata": {},
     "outputs": [
      {
       "output_type": "stream",
       "stream": "stdout",
       "text": [
        "KNN:\n",
        " -- Accuracy:  0.908256880734\n",
        " -- Precision:  0.984126984127\n",
        " -- Recall:  0.87323943662\n",
        " -- F1:  0.925373134328 \n",
        "\n",
        "Logistic:\n",
        " -- Accuracy:  0.935779816514\n",
        " -- Precision:  0.957142857143\n",
        " -- Recall:  0.943661971831\n",
        " -- F1:  0.950354609929 \n",
        "\n",
        "Gaussian:\n",
        " -- Accuracy:  0.94495412844\n",
        " -- Precision:  0.957746478873\n",
        " -- Recall:  0.957746478873\n",
        " -- F1:  0.957746478873 \n",
        "\n",
        "SVC:\n",
        " -- Accuracy:  0.94495412844\n",
        " -- Precision:  0.971014492754\n",
        " -- Recall:  0.943661971831\n",
        " -- F1:  0.957142857143 \n",
        "\n",
        "Decision Tree:\n",
        " -- Accuracy:  1.0\n",
        " -- Precision:  1.0\n",
        " -- Recall:  1.0\n",
        " -- F1:  1.0 \n",
        "\n",
        "Random Forest:\n",
        " -- Accuracy:  1.0\n",
        " -- Precision:  1.0\n",
        " -- Recall:  1.0\n",
        " -- F1:  1.0 \n",
        "\n",
        "Dumb:\n",
        " -- Accuracy:  0.651376146789\n",
        " -- Precision:  0.651376146789\n",
        " -- Recall:  1.0\n",
        " -- F1:  0.788888888889 \n",
        "\n"
       ]
      }
     ],
     "prompt_number": 439
    },
    {
     "cell_type": "heading",
     "level": 2,
     "metadata": {},
     "source": [
      "Challenge #2 - "
     ]
    },
    {
     "cell_type": "markdown",
     "metadata": {},
     "source": [
      "For each, draw the ROC curve and calculate the AUC."
     ]
    },
    {
     "cell_type": "code",
     "collapsed": false,
     "input": [
      "knn_probas = neigh.fit(X, y).predict_proba(testing_set[headers[1:]])\n",
      "knn_fpr, knn_tpr, knn_thresholds = roc_curve(knn_true, knn_probas[:, 0], pos_label=0)\n",
      "knn_auc = auc(knn_fpr, knn_tpr)\n",
      "print \"KNN AUC: \", knn_auc\n",
      "\n",
      "log_probas = logistic_model.fit(X, y).predict_proba(testing_set[headers[1:]])\n",
      "log_fpr, log_tpr, log_thresholds = roc_curve(log_true, log_probas[:, 0], pos_label=0)\n",
      "log_auc = auc(log_fpr, log_tpr)\n",
      "print \"Logistic Regression AUC: \", log_auc\n",
      "\n",
      "gauss_probas = gauss.fit(X, y).predict_proba(testing_set[headers[1:]])\n",
      "gauss_fpr, gauss_tpr, gauss_thresholds = roc_curve(gauss_true, gauss_probas[:, 0], pos_label=0)\n",
      "gauss_auc = auc(gauss_fpr, gauss_tpr)\n",
      "print \"Gaussian AUC: \", gauss_auc\n",
      "\n",
      "svc_probas = svc.fit(X, y).decision_function(testing_set[headers[1:]])\n",
      "svc_fpr, svc_tpr, svc_thresholds = roc_curve(svc_true, -svc_probas[:, 0], pos_label=0)\n",
      "svc_auc = auc(svc_fpr, svc_tpr)\n",
      "print \"SVC AUC: \", svc_auc\n",
      "\n",
      "decision_probas = decision_tree.fit(X, y).predict_proba(testing_set[headers[1:]])\n",
      "decision_fpr, decision_tpr, decision_thresholds = roc_curve(decision_tree_true, decision_probas[:, 0], pos_label=0)\n",
      "decition_auc = auc(decision_fpr, decision_tpr)\n",
      "print \"Decision Tree AUC: \", decition_auc\n",
      "\n",
      "random_probas = random_forest.fit(X, y).predict_proba(testing_set[headers[1:]])\n",
      "random_fpr, random_tpr, random_thresholds = roc_curve(random_forest_true, random_probas[:, 0], pos_label=0)\n",
      "random_auc = auc(random_fpr, random_tpr)\n",
      "print \"Random Forest AUC: \", random_auc\n",
      "\n",
      "#dumb_probas = dumb.fit(X, y).predict_proba(testing_set[headers[1:]])\n",
      "#dumb_fpr, dumb_tpr, dumb_thresholds = roc_curve(dumb_true, dumb_probas[:, 0], pos_label=0)"
     ],
     "language": "python",
     "metadata": {},
     "outputs": [
      {
       "output_type": "stream",
       "stream": "stdout",
       "text": [
        "KNN AUC:  0.511694915254\n",
        "Logistic Regression AUC:  0.992957746479\n",
        "Gaussian AUC:  0.954966641957\n",
        "SVC AUC:  0.994069681245\n",
        "Decision Tree AUC:  1.0\n",
        "Random Forest AUC:  1.0\n"
       ]
      }
     ],
     "prompt_number": 536
    },
    {
     "cell_type": "code",
     "collapsed": false,
     "input": [
      "plt.figure(figsize=[15,6])\n",
      "knn_plot, = plt.plot(knn_fpr, knn_tpr, label='KNN')\n",
      "log_plot, = plt.plot(log_fpr, log_tpr, label='Logistic Regression')\n",
      "gauss_plot, = plt.plot(gauss_fpr, gauss_tpr, label='Gaussian')\n",
      "svc_plot, = plt.plot(svc_fpr, svc_tpr, label='SVC')\n",
      "decision_plot, = plt.plot(decision_fpr, decision_tpr, label='Decision Tree')\n",
      "forest_plot, = plt.plot(random_fpr, random_tpr, label='Random Forest')\n",
      "plt.legend(handles=[knn_plot, log_plot, gauss_plot, svc_plot, decision_plot, forest_plot])\n",
      "plt.legend(bbox_to_anchor=(1.05, 1), loc=2, borderaxespad=0.)\n",
      "\n",
      "plt.axis([0, 1.1, 0, 1.1])\n"
     ],
     "language": "python",
     "metadata": {},
     "outputs": [
      {
       "metadata": {},
       "output_type": "pyout",
       "prompt_number": 537,
       "text": [
        "[0, 1.1, 0, 1.1]"
       ]
      },
      {
       "metadata": {},
       "output_type": "display_data",
       "png": "[encoded data removed]",
       "text": [
        "<matplotlib.figure.Figure at 0x10f766b50>"
       ]
      }
     ],
     "prompt_number": 537
    },
    {
     "cell_type": "heading",
     "level": 2,
     "metadata": {},
     "source": [
      "Challenge #3 -"
     ]
    },
    {
     "cell_type": "markdown",
     "metadata": {},
     "source": [
      "Calculate the same metrics you did in challenge 1, but this time in a cross validation scheme with the cross_val_score function (like in Challenge 9)"
     ]
    },
    {
     "cell_type": "code",
     "collapsed": false,
     "input": [
      "knn_accuracy_scores = cross_val_score(neigh, X, y, cv=5)\n",
      "knn_precision_scores = cross_val_score(neigh, X, y, cv=5, scoring='precision')\n",
      "knn_recall_scores = cross_val_score(neigh, X, y, cv=5, scoring='recall')\n",
      "knn_f1_scores = cross_val_score(neigh, X, y, cv=5, scoring='f1')\n",
      "\n",
      "log_accuracy_scores = cross_val_score(logistic_model, X, y, cv=5)\n",
      "log_precision_scores = cross_val_score(logistic_model, X, y, cv=5, scoring='precision')\n",
      "log_recall_scores = cross_val_score(logistic_model, X, y, cv=5, scoring='recall')\n",
      "log_f1_scores = cross_val_score(logistic_model, X, y, cv=5, scoring='f1')\n",
      "\n",
      "gauss_accuracy_scores = cross_val_score(gauss, X, y, cv=5)\n",
      "gauss_precision_scores = cross_val_score(gauss, X, y, cv=5, scoring='precision')\n",
      "gauss_recall_scores = cross_val_score(gauss, X, y, cv=5, scoring='recall')\n",
      "gauss_f1_scores = cross_val_score(gauss, X, y, cv=5, scoring='f1')\n",
      "\n",
      "svc_accuracy_scores = cross_val_score(svc, X, y, cv=5)\n",
      "svc_precision_scores = cross_val_score(svc, X, y, cv=5, scoring='precision')\n",
      "svc_recall_scores = cross_val_score(svc, X, y, cv=5, scoring='recall')\n",
      "svc_f1_scores = cross_val_score(svc, X, y, cv=5, scoring='f1')\n",
      "\n",
      "decision_tree_accuracy_scores = cross_val_score(decision_tree, X, y, cv=5)\n",
      "decision_tree_precision_scores = cross_val_score(decision_tree, X, y, cv=5, scoring='precision')\n",
      "decision_tree_recall_scores = cross_val_score(decision_tree, X, y, cv=5, scoring='recall')\n",
      "decision_tree_f1_scores = cross_val_score(decision_tree, X, y, cv=5, scoring='f1')\n",
      "\n",
      "random_forest_accuracy_scores = cross_val_score(random_forest, X, y, cv=5)\n",
      "random_forest_precision_scores = cross_val_score(random_forest, X, y, cv=5, scoring='precision')\n",
      "random_forest_recall_scores = cross_val_score(random_forest, X, y, cv=5, scoring='recall')\n",
      "random_forest_f1_scores = cross_val_score(random_forest, X, y, cv=5, scoring='f1')"
     ],
     "language": "python",
     "metadata": {},
     "outputs": [],
     "prompt_number": 466
    },
    {
     "cell_type": "code",
     "collapsed": false,
     "input": [
      "print \"KNN:\"\n",
      "print \" -- Accuracy: \", np.mean(knn_accuracy_scores)\n",
      "print \" -- Precision: \", np.mean(knn_precision_scores)\n",
      "print \" -- Recall: \", np.mean(knn_recall_scores)\n",
      "print \" -- F1: \", np.mean(knn_f1_scores), \"\\n\"\n",
      "\n",
      "print \"Logistic:\"\n",
      "print \" -- Accuracy: \", np.mean(log_accuracy_scores)\n",
      "print \" -- Precision: \", np.mean(log_precision_scores)\n",
      "print \" -- Recall: \", np.mean(log_recall_scores)\n",
      "print \" -- F1: \", np.mean(log_f1_scores), \"\\n\"\n",
      "\n",
      "print \"Gaussian:\"\n",
      "print \" -- Accuracy: \", np.mean(gauss_accuracy_scores)\n",
      "print \" -- Precision: \", np.mean(gauss_precision_scores)\n",
      "print \" -- Recall: \", np.mean(gauss_recall_scores) \n",
      "print \" -- F1: \", np.mean(gauss_f1_scores), \"\\n\"\n",
      "\n",
      "print \"SVC:\"\n",
      "print \" -- Accuracy: \", np.mean(svc_accuracy_scores)\n",
      "print \" -- Precision: \", np.mean(svc_precision_scores)\n",
      "print \" -- Recall: \", np.mean(svc_recall_scores) \n",
      "print \" -- F1: \", np.mean(svc_f1_scores), \"\\n\"\n",
      "\n",
      "print \"Decision Tree:\"\n",
      "print \" -- Accuracy: \", np.mean(decision_tree_accuracy_scores)\n",
      "print \" -- Precision: \", np.mean(decision_tree_precision_scores)\n",
      "print \" -- Recall: \", np.mean(decision_tree_recall_scores) \n",
      "print \" -- F1: \", np.mean(decision_tree_f1_scores), \"\\n\"\n",
      "\n",
      "print \"Random Forest:\"\n",
      "print \" -- Accuracy: \", np.mean(random_forest_accuracy_scores)\n",
      "print \" -- Precision: \", np.mean(random_forest_precision_scores)\n",
      "print \" -- Recall: \", np.mean(random_forest_recall_scores)\n",
      "print \" -- F1: \", np.mean(random_forest_f1_scores), \"\\n\"\n"
     ],
     "language": "python",
     "metadata": {},
     "outputs": [
      {
       "output_type": "stream",
       "stream": "stdout",
       "text": [
        "KNN:\n",
        " -- Accuracy:  0.912712935287\n",
        " -- Precision:  0.975726495726\n",
        " -- Recall:  0.88036338225\n",
        " -- F1:  0.923840397122 \n",
        "\n",
        "Logistic:\n",
        " -- Accuracy:  0.958483997959\n",
        " -- Precision:  0.969871575465\n",
        " -- Recall:  0.962473794549\n",
        " -- F1:  0.965724373089 \n",
        "\n",
        "Gaussian:\n",
        " -- Accuracy:  0.940144224928\n",
        " -- Precision:  0.958181605976\n",
        " -- Recall:  0.943815513627\n",
        " -- F1:  0.950243134046 \n",
        "\n",
        "SVC:\n",
        " -- Accuracy:  0.953965274234\n",
        " -- Precision:  0.97721585119\n",
        " -- Recall:  0.947519217331\n",
        " -- F1:  0.961533184241 \n",
        "\n",
        "Decision Tree:\n",
        " -- Accuracy:  0.937818036014\n",
        " -- Precision:  0.962505050505\n",
        " -- Recall:  0.943815513627\n",
        " -- F1:  0.950600032934 \n",
        "\n",
        "Random Forest:\n",
        " -- Accuracy:  0.958483997959\n",
        " -- Precision:  0.98465234102\n",
        " -- Recall:  0.943815513627\n",
        " -- F1:  0.965436797603 \n",
        "\n"
       ]
      }
     ],
     "prompt_number": 469
    },
    {
     "cell_type": "heading",
     "level": 2,
     "metadata": {},
     "source": [
      "Challenge #4 "
     ]
    },
    {
     "cell_type": "markdown",
     "metadata": {},
     "source": [
      "For your movie classifiers, calculate the precision and recall for each class."
     ]
    },
    {
     "cell_type": "code",
     "collapsed": false,
     "input": [
      "movie_y_pred = movie_logistic.predict(test_X)\n",
      "movie_y_true = test_y\n",
      "\n",
      "cm = confusion_matrix(movie_y_true, movie_y_pred)\n",
      "\n",
      "cm"
     ],
     "language": "python",
     "metadata": {},
     "outputs": [
      {
       "metadata": {},
       "output_type": "pyout",
       "prompt_number": 493,
       "text": [
        "array([[ 0,  0, 20,  0,  0,  0,  1,  0, 20, 12,  0,  0],\n",
        "       [ 0,  0, 22,  0,  0,  0,  2,  0, 19, 11,  0,  0],\n",
        "       [ 0,  0, 56,  0,  0,  0,  3,  0,  5,  7,  0,  0],\n",
        "       [ 0,  0,  5,  0,  0,  0,  2,  0, 21, 13,  0,  0],\n",
        "       [ 0,  0, 16,  0,  0,  0,  1,  0, 10, 14,  0,  0],\n",
        "       [ 0,  0, 26,  0,  0,  0,  7,  0, 16, 17,  0,  0],\n",
        "       [ 0,  0, 19,  0,  0,  0,  7,  0, 13, 22,  0,  0],\n",
        "       [ 0,  0, 14,  0,  0,  0,  3,  0, 16, 15,  0,  0],\n",
        "       [ 0,  0, 19,  0,  0,  0,  3,  0, 11, 18,  0,  0],\n",
        "       [ 0,  0, 28,  0,  0,  0,  1,  0,  9, 18,  0,  0],\n",
        "       [ 0,  0, 39,  0,  0,  0,  1,  0, 12, 13,  0,  0],\n",
        "       [ 0,  0, 26,  0,  0,  0,  2,  0, 18, 18,  0,  0]])"
       ]
      }
     ],
     "prompt_number": 493
    },
    {
     "cell_type": "code",
     "collapsed": false,
     "input": [
      "recall = defaultdict(list)\n",
      "\n",
      "for i in range(0,12):\n",
      "    recall[i] = []\n",
      "    for j in range(0,12):\n",
      "        recall[i].append(float(cm[i][j]) / np.sum(cm[i]))\n",
      "print \"Recall:\"\n",
      "pd.DataFrame(np.array(recall.values()))"
     ],
     "language": "python",
     "metadata": {},
     "outputs": [
      {
       "output_type": "stream",
       "stream": "stdout",
       "text": [
        "Recall:\n"
       ]
      },
      {
       "html": [
        "<div style=\"max-height:1000px;max-width:1500px;overflow:auto;\">\n",
        "<table border=\"1\" class=\"dataframe\">\n",
        "  <thead>\n",
        "    <tr style=\"text-align: right;\">\n",
        "      <th></th>\n",
        "      <th>0</th>\n",
        "      <th>1</th>\n",
        "      <th>2</th>\n",
        "      <th>3</th>\n",
        "      <th>4</th>\n",
        "      <th>5</th>\n",
        "      <th>6</th>\n",
        "      <th>7</th>\n",
        "      <th>8</th>\n",
        "      <th>9</th>\n",
        "      <th>10</th>\n",
        "      <th>11</th>\n",
        "    </tr>\n",
        "  </thead>\n",
        "  <tbody>\n",
        "    <tr>\n",
        "      <th>0 </th>\n",
        "      <td> 0</td>\n",
        "      <td> 0</td>\n",
        "      <td> 0.377358</td>\n",
        "      <td> 0</td>\n",
        "      <td> 0</td>\n",
        "      <td> 0</td>\n",
        "      <td> 0.018868</td>\n",
        "      <td> 0</td>\n",
        "      <td> 0.377358</td>\n",
        "      <td> 0.226415</td>\n",
        "      <td> 0</td>\n",
        "      <td> 0</td>\n",
        "    </tr>\n",
        "    <tr>\n",
        "      <th>1 </th>\n",
        "      <td> 0</td>\n",
        "      <td> 0</td>\n",
        "      <td> 0.407407</td>\n",
        "      <td> 0</td>\n",
        "      <td> 0</td>\n",
        "      <td> 0</td>\n",
        "      <td> 0.037037</td>\n",
        "      <td> 0</td>\n",
        "      <td> 0.351852</td>\n",
        "      <td> 0.203704</td>\n",
        "      <td> 0</td>\n",
        "      <td> 0</td>\n",
        "    </tr>\n",
        "    <tr>\n",
        "      <th>2 </th>\n",
        "      <td> 0</td>\n",
        "      <td> 0</td>\n",
        "      <td> 0.788732</td>\n",
        "      <td> 0</td>\n",
        "      <td> 0</td>\n",
        "      <td> 0</td>\n",
        "      <td> 0.042254</td>\n",
        "      <td> 0</td>\n",
        "      <td> 0.070423</td>\n",
        "      <td> 0.098592</td>\n",
        "      <td> 0</td>\n",
        "      <td> 0</td>\n",
        "    </tr>\n",
        "    <tr>\n",
        "      <th>3 </th>\n",
        "      <td> 0</td>\n",
        "      <td> 0</td>\n",
        "      <td> 0.121951</td>\n",
        "      <td> 0</td>\n",
        "      <td> 0</td>\n",
        "      <td> 0</td>\n",
        "      <td> 0.048780</td>\n",
        "      <td> 0</td>\n",
        "      <td> 0.512195</td>\n",
        "      <td> 0.317073</td>\n",
        "      <td> 0</td>\n",
        "      <td> 0</td>\n",
        "    </tr>\n",
        "    <tr>\n",
        "      <th>4 </th>\n",
        "      <td> 0</td>\n",
        "      <td> 0</td>\n",
        "      <td> 0.390244</td>\n",
        "      <td> 0</td>\n",
        "      <td> 0</td>\n",
        "      <td> 0</td>\n",
        "      <td> 0.024390</td>\n",
        "      <td> 0</td>\n",
        "      <td> 0.243902</td>\n",
        "      <td> 0.341463</td>\n",
        "      <td> 0</td>\n",
        "      <td> 0</td>\n",
        "    </tr>\n",
        "    <tr>\n",
        "      <th>5 </th>\n",
        "      <td> 0</td>\n",
        "      <td> 0</td>\n",
        "      <td> 0.393939</td>\n",
        "      <td> 0</td>\n",
        "      <td> 0</td>\n",
        "      <td> 0</td>\n",
        "      <td> 0.106061</td>\n",
        "      <td> 0</td>\n",
        "      <td> 0.242424</td>\n",
        "      <td> 0.257576</td>\n",
        "      <td> 0</td>\n",
        "      <td> 0</td>\n",
        "    </tr>\n",
        "    <tr>\n",
        "      <th>6 </th>\n",
        "      <td> 0</td>\n",
        "      <td> 0</td>\n",
        "      <td> 0.311475</td>\n",
        "      <td> 0</td>\n",
        "      <td> 0</td>\n",
        "      <td> 0</td>\n",
        "      <td> 0.114754</td>\n",
        "      <td> 0</td>\n",
        "      <td> 0.213115</td>\n",
        "      <td> 0.360656</td>\n",
        "      <td> 0</td>\n",
        "      <td> 0</td>\n",
        "    </tr>\n",
        "    <tr>\n",
        "      <th>7 </th>\n",
        "      <td> 0</td>\n",
        "      <td> 0</td>\n",
        "      <td> 0.291667</td>\n",
        "      <td> 0</td>\n",
        "      <td> 0</td>\n",
        "      <td> 0</td>\n",
        "      <td> 0.062500</td>\n",
        "      <td> 0</td>\n",
        "      <td> 0.333333</td>\n",
        "      <td> 0.312500</td>\n",
        "      <td> 0</td>\n",
        "      <td> 0</td>\n",
        "    </tr>\n",
        "    <tr>\n",
        "      <th>8 </th>\n",
        "      <td> 0</td>\n",
        "      <td> 0</td>\n",
        "      <td> 0.372549</td>\n",
        "      <td> 0</td>\n",
        "      <td> 0</td>\n",
        "      <td> 0</td>\n",
        "      <td> 0.058824</td>\n",
        "      <td> 0</td>\n",
        "      <td> 0.215686</td>\n",
        "      <td> 0.352941</td>\n",
        "      <td> 0</td>\n",
        "      <td> 0</td>\n",
        "    </tr>\n",
        "    <tr>\n",
        "      <th>9 </th>\n",
        "      <td> 0</td>\n",
        "      <td> 0</td>\n",
        "      <td> 0.500000</td>\n",
        "      <td> 0</td>\n",
        "      <td> 0</td>\n",
        "      <td> 0</td>\n",
        "      <td> 0.017857</td>\n",
        "      <td> 0</td>\n",
        "      <td> 0.160714</td>\n",
        "      <td> 0.321429</td>\n",
        "      <td> 0</td>\n",
        "      <td> 0</td>\n",
        "    </tr>\n",
        "    <tr>\n",
        "      <th>10</th>\n",
        "      <td> 0</td>\n",
        "      <td> 0</td>\n",
        "      <td> 0.600000</td>\n",
        "      <td> 0</td>\n",
        "      <td> 0</td>\n",
        "      <td> 0</td>\n",
        "      <td> 0.015385</td>\n",
        "      <td> 0</td>\n",
        "      <td> 0.184615</td>\n",
        "      <td> 0.200000</td>\n",
        "      <td> 0</td>\n",
        "      <td> 0</td>\n",
        "    </tr>\n",
        "    <tr>\n",
        "      <th>11</th>\n",
        "      <td> 0</td>\n",
        "      <td> 0</td>\n",
        "      <td> 0.406250</td>\n",
        "      <td> 0</td>\n",
        "      <td> 0</td>\n",
        "      <td> 0</td>\n",
        "      <td> 0.031250</td>\n",
        "      <td> 0</td>\n",
        "      <td> 0.281250</td>\n",
        "      <td> 0.281250</td>\n",
        "      <td> 0</td>\n",
        "      <td> 0</td>\n",
        "    </tr>\n",
        "  </tbody>\n",
        "</table>\n",
        "</div>"
       ],
       "metadata": {},
       "output_type": "pyout",
       "prompt_number": 530,
       "text": [
        "    0   1         2   3   4   5         6   7         8         9   10  11\n",
        "0    0   0  0.377358   0   0   0  0.018868   0  0.377358  0.226415   0   0\n",
        "1    0   0  0.407407   0   0   0  0.037037   0  0.351852  0.203704   0   0\n",
        "2    0   0  0.788732   0   0   0  0.042254   0  0.070423  0.098592   0   0\n",
        "3    0   0  0.121951   0   0   0  0.048780   0  0.512195  0.317073   0   0\n",
        "4    0   0  0.390244   0   0   0  0.024390   0  0.243902  0.341463   0   0\n",
        "5    0   0  0.393939   0   0   0  0.106061   0  0.242424  0.257576   0   0\n",
        "6    0   0  0.311475   0   0   0  0.114754   0  0.213115  0.360656   0   0\n",
        "7    0   0  0.291667   0   0   0  0.062500   0  0.333333  0.312500   0   0\n",
        "8    0   0  0.372549   0   0   0  0.058824   0  0.215686  0.352941   0   0\n",
        "9    0   0  0.500000   0   0   0  0.017857   0  0.160714  0.321429   0   0\n",
        "10   0   0  0.600000   0   0   0  0.015385   0  0.184615  0.200000   0   0\n",
        "11   0   0  0.406250   0   0   0  0.031250   0  0.281250  0.281250   0   0"
       ]
      }
     ],
     "prompt_number": 530
    },
    {
     "cell_type": "code",
     "collapsed": false,
     "input": [
      "precision = defaultdict(list)\n",
      "\n",
      "cm_prime = cm.transpose()\n",
      "\n",
      "for i in range(0,12):\n",
      "    precision[i] = []\n",
      "    for j in range(0,12):\n",
      "        try:\n",
      "            precision[i].append(float(cm_prime[i][j]) / np.sum(cm_prime[i]))\n",
      "        except:\n",
      "            precision[i].append(np.NAN)\n",
      "print \"Precision:\"            \n",
      "pd.DataFrame(np.array(precision.values()).transpose())"
     ],
     "language": "python",
     "metadata": {},
     "outputs": [
      {
       "output_type": "stream",
       "stream": "stdout",
       "text": [
        "Precision:\n"
       ]
      },
      {
       "html": [
        "<div style=\"max-height:1000px;max-width:1500px;overflow:auto;\">\n",
        "<table border=\"1\" class=\"dataframe\">\n",
        "  <thead>\n",
        "    <tr style=\"text-align: right;\">\n",
        "      <th></th>\n",
        "      <th>0</th>\n",
        "      <th>1</th>\n",
        "      <th>2</th>\n",
        "      <th>3</th>\n",
        "      <th>4</th>\n",
        "      <th>5</th>\n",
        "      <th>6</th>\n",
        "      <th>7</th>\n",
        "      <th>8</th>\n",
        "      <th>9</th>\n",
        "      <th>10</th>\n",
        "      <th>11</th>\n",
        "    </tr>\n",
        "  </thead>\n",
        "  <tbody>\n",
        "    <tr>\n",
        "      <th>0 </th>\n",
        "      <td>NaN</td>\n",
        "      <td>NaN</td>\n",
        "      <td> 0.068966</td>\n",
        "      <td>NaN</td>\n",
        "      <td>NaN</td>\n",
        "      <td>NaN</td>\n",
        "      <td> 0.030303</td>\n",
        "      <td>NaN</td>\n",
        "      <td> 0.117647</td>\n",
        "      <td> 0.067416</td>\n",
        "      <td>NaN</td>\n",
        "      <td>NaN</td>\n",
        "    </tr>\n",
        "    <tr>\n",
        "      <th>1 </th>\n",
        "      <td>NaN</td>\n",
        "      <td>NaN</td>\n",
        "      <td> 0.075862</td>\n",
        "      <td>NaN</td>\n",
        "      <td>NaN</td>\n",
        "      <td>NaN</td>\n",
        "      <td> 0.060606</td>\n",
        "      <td>NaN</td>\n",
        "      <td> 0.111765</td>\n",
        "      <td> 0.061798</td>\n",
        "      <td>NaN</td>\n",
        "      <td>NaN</td>\n",
        "    </tr>\n",
        "    <tr>\n",
        "      <th>2 </th>\n",
        "      <td>NaN</td>\n",
        "      <td>NaN</td>\n",
        "      <td> 0.193103</td>\n",
        "      <td>NaN</td>\n",
        "      <td>NaN</td>\n",
        "      <td>NaN</td>\n",
        "      <td> 0.090909</td>\n",
        "      <td>NaN</td>\n",
        "      <td> 0.029412</td>\n",
        "      <td> 0.039326</td>\n",
        "      <td>NaN</td>\n",
        "      <td>NaN</td>\n",
        "    </tr>\n",
        "    <tr>\n",
        "      <th>3 </th>\n",
        "      <td>NaN</td>\n",
        "      <td>NaN</td>\n",
        "      <td> 0.017241</td>\n",
        "      <td>NaN</td>\n",
        "      <td>NaN</td>\n",
        "      <td>NaN</td>\n",
        "      <td> 0.060606</td>\n",
        "      <td>NaN</td>\n",
        "      <td> 0.123529</td>\n",
        "      <td> 0.073034</td>\n",
        "      <td>NaN</td>\n",
        "      <td>NaN</td>\n",
        "    </tr>\n",
        "    <tr>\n",
        "      <th>4 </th>\n",
        "      <td>NaN</td>\n",
        "      <td>NaN</td>\n",
        "      <td> 0.055172</td>\n",
        "      <td>NaN</td>\n",
        "      <td>NaN</td>\n",
        "      <td>NaN</td>\n",
        "      <td> 0.030303</td>\n",
        "      <td>NaN</td>\n",
        "      <td> 0.058824</td>\n",
        "      <td> 0.078652</td>\n",
        "      <td>NaN</td>\n",
        "      <td>NaN</td>\n",
        "    </tr>\n",
        "    <tr>\n",
        "      <th>5 </th>\n",
        "      <td>NaN</td>\n",
        "      <td>NaN</td>\n",
        "      <td> 0.089655</td>\n",
        "      <td>NaN</td>\n",
        "      <td>NaN</td>\n",
        "      <td>NaN</td>\n",
        "      <td> 0.212121</td>\n",
        "      <td>NaN</td>\n",
        "      <td> 0.094118</td>\n",
        "      <td> 0.095506</td>\n",
        "      <td>NaN</td>\n",
        "      <td>NaN</td>\n",
        "    </tr>\n",
        "    <tr>\n",
        "      <th>6 </th>\n",
        "      <td>NaN</td>\n",
        "      <td>NaN</td>\n",
        "      <td> 0.065517</td>\n",
        "      <td>NaN</td>\n",
        "      <td>NaN</td>\n",
        "      <td>NaN</td>\n",
        "      <td> 0.212121</td>\n",
        "      <td>NaN</td>\n",
        "      <td> 0.076471</td>\n",
        "      <td> 0.123596</td>\n",
        "      <td>NaN</td>\n",
        "      <td>NaN</td>\n",
        "    </tr>\n",
        "    <tr>\n",
        "      <th>7 </th>\n",
        "      <td>NaN</td>\n",
        "      <td>NaN</td>\n",
        "      <td> 0.048276</td>\n",
        "      <td>NaN</td>\n",
        "      <td>NaN</td>\n",
        "      <td>NaN</td>\n",
        "      <td> 0.090909</td>\n",
        "      <td>NaN</td>\n",
        "      <td> 0.094118</td>\n",
        "      <td> 0.084270</td>\n",
        "      <td>NaN</td>\n",
        "      <td>NaN</td>\n",
        "    </tr>\n",
        "    <tr>\n",
        "      <th>8 </th>\n",
        "      <td>NaN</td>\n",
        "      <td>NaN</td>\n",
        "      <td> 0.065517</td>\n",
        "      <td>NaN</td>\n",
        "      <td>NaN</td>\n",
        "      <td>NaN</td>\n",
        "      <td> 0.090909</td>\n",
        "      <td>NaN</td>\n",
        "      <td> 0.064706</td>\n",
        "      <td> 0.101124</td>\n",
        "      <td>NaN</td>\n",
        "      <td>NaN</td>\n",
        "    </tr>\n",
        "    <tr>\n",
        "      <th>9 </th>\n",
        "      <td>NaN</td>\n",
        "      <td>NaN</td>\n",
        "      <td> 0.096552</td>\n",
        "      <td>NaN</td>\n",
        "      <td>NaN</td>\n",
        "      <td>NaN</td>\n",
        "      <td> 0.030303</td>\n",
        "      <td>NaN</td>\n",
        "      <td> 0.052941</td>\n",
        "      <td> 0.101124</td>\n",
        "      <td>NaN</td>\n",
        "      <td>NaN</td>\n",
        "    </tr>\n",
        "    <tr>\n",
        "      <th>10</th>\n",
        "      <td>NaN</td>\n",
        "      <td>NaN</td>\n",
        "      <td> 0.134483</td>\n",
        "      <td>NaN</td>\n",
        "      <td>NaN</td>\n",
        "      <td>NaN</td>\n",
        "      <td> 0.030303</td>\n",
        "      <td>NaN</td>\n",
        "      <td> 0.070588</td>\n",
        "      <td> 0.073034</td>\n",
        "      <td>NaN</td>\n",
        "      <td>NaN</td>\n",
        "    </tr>\n",
        "    <tr>\n",
        "      <th>11</th>\n",
        "      <td>NaN</td>\n",
        "      <td>NaN</td>\n",
        "      <td> 0.089655</td>\n",
        "      <td>NaN</td>\n",
        "      <td>NaN</td>\n",
        "      <td>NaN</td>\n",
        "      <td> 0.060606</td>\n",
        "      <td>NaN</td>\n",
        "      <td> 0.105882</td>\n",
        "      <td> 0.101124</td>\n",
        "      <td>NaN</td>\n",
        "      <td>NaN</td>\n",
        "    </tr>\n",
        "  </tbody>\n",
        "</table>\n",
        "</div>"
       ],
       "metadata": {},
       "output_type": "pyout",
       "prompt_number": 529,
       "text": [
        "    0   1         2   3   4   5         6   7         8         9   10  11\n",
        "0  NaN NaN  0.068966 NaN NaN NaN  0.030303 NaN  0.117647  0.067416 NaN NaN\n",
        "1  NaN NaN  0.075862 NaN NaN NaN  0.060606 NaN  0.111765  0.061798 NaN NaN\n",
        "2  NaN NaN  0.193103 NaN NaN NaN  0.090909 NaN  0.029412  0.039326 NaN NaN\n",
        "3  NaN NaN  0.017241 NaN NaN NaN  0.060606 NaN  0.123529  0.073034 NaN NaN\n",
        "4  NaN NaN  0.055172 NaN NaN NaN  0.030303 NaN  0.058824  0.078652 NaN NaN\n",
        "5  NaN NaN  0.089655 NaN NaN NaN  0.212121 NaN  0.094118  0.095506 NaN NaN\n",
        "6  NaN NaN  0.065517 NaN NaN NaN  0.212121 NaN  0.076471  0.123596 NaN NaN\n",
        "7  NaN NaN  0.048276 NaN NaN NaN  0.090909 NaN  0.094118  0.084270 NaN NaN\n",
        "8  NaN NaN  0.065517 NaN NaN NaN  0.090909 NaN  0.064706  0.101124 NaN NaN\n",
        "9  NaN NaN  0.096552 NaN NaN NaN  0.030303 NaN  0.052941  0.101124 NaN NaN\n",
        "10 NaN NaN  0.134483 NaN NaN NaN  0.030303 NaN  0.070588  0.073034 NaN NaN\n",
        "11 NaN NaN  0.089655 NaN NaN NaN  0.060606 NaN  0.105882  0.101124 NaN NaN"
       ]
      }
     ],
     "prompt_number": 529
    },
    {
     "cell_type": "heading",
     "level": 2,
     "metadata": {},
     "source": [
      "Challenge #5"
     ]
    },
    {
     "cell_type": "markdown",
     "metadata": {},
     "source": [
      "Draw the ROC curve (and calculate AUC) for the logistic regression classifier from challenge 12"
     ]
    },
    {
     "cell_type": "code",
     "collapsed": false,
     "input": [
      "haberman_training_X, haberman_testing_X, haberman_training_y, haberman_testing_y = train_test_split(haberman_df[['Age','OperationDate','PositiveNodes']],haberman_df['SurvivalStatus'] , test_size=0.25)\n",
      "\n",
      "haberman_logistic_probas = haberman_logistic_model.fit(haberman_training_X, haberman_training_y).predict_proba(haberman_testing_X)\n",
      "haberman_logistic_fpr, haberman_logistic_tpr, haberman_logistic_thresholds = roc_curve(haberman_testing_y, -haberman_logistic_probas[:, 1], pos_label=1)\n",
      "haberman_logistic_auc = auc(haberman_logistic_fpr, haberman_logistic_tpr)\n",
      "print \"AUC: \", haberman_logistic_auc"
     ],
     "language": "python",
     "metadata": {},
     "outputs": [
      {
       "output_type": "stream",
       "stream": "stdout",
       "text": [
        "AUC:  0.707991803279\n"
       ]
      }
     ],
     "prompt_number": 563
    },
    {
     "cell_type": "code",
     "collapsed": false,
     "input": [
      "haberman_plot, = plt.plot(haberman_logistic_fpr, haberman_logistic_tpr, label='Haberman Logistic Regression')\n",
      "plt.legend(handles=[haberman_plot])\n",
      "plt.legend(bbox_to_anchor=(1.05, 1), loc=2, borderaxespad=0.)\n",
      "\n",
      "plt.axis([0, 1.1, 0, 1.1])\n",
      "\n"
     ],
     "language": "python",
     "metadata": {},
     "outputs": [
      {
       "metadata": {},
       "output_type": "pyout",
       "prompt_number": 564,
       "text": [
        "[0, 1.1, 0, 1.1]"
       ]
      },
      {
       "metadata": {},
       "output_type": "display_data",
       "png": "[encoded data removed]",
       "text": [
        "<matplotlib.figure.Figure at 0x10f7b7c50>"
       ]
      }
     ],
     "prompt_number": 564
    },
    {
     "cell_type": "code",
     "collapsed": false,
     "input": [],
     "language": "python",
     "metadata": {},
     "outputs": []
    }
   ],
   "metadata": {}
  }
 ]
}