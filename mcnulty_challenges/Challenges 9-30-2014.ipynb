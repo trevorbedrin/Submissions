{
 "metadata": {
  "name": "",
  "signature": "sha256:4e7fc043f5eade4bd1044edea97bf47d08c9039f5a0405caded4212b5294332a"
 },
 "nbformat": 3,
 "nbformat_minor": 0,
 "worksheets": [
  {
   "cells": [
    {
     "cell_type": "code",
     "collapsed": false,
     "input": [
      "%matplotlib inline\n",
      "import matplotlib.pyplot as plt\n",
      "import pandas as pd\n",
      "import numpy as np\n",
      "from sklearn.cross_validation import train_test_split\n",
      "from sklearn.neighbors import KNeighborsClassifier\n",
      "from sklearn.metrics import accuracy_score\n",
      "from sklearn.metrics import precision_score\n",
      "from sklearn.metrics import recall_score\n",
      "from sklearn.metrics import f1_score\n",
      "from sklearn.metrics import roc_curve\n",
      "from sklearn.metrics import auc\n",
      "from sklearn.metrics import confusion_matrix\n",
      "from sklearn.preprocessing import label_binarize\n",
      "from sklearn.linear_model import LogisticRegression\n",
      "from sklearn.learning_curve import learning_curve\n",
      "from sklearn.naive_bayes import GaussianNB\n",
      "from sklearn.svm import SVC\n",
      "from sklearn.tree import DecisionTreeClassifier\n",
      "from sklearn.tree import export_graphviz\n",
      "from sklearn.ensemble import RandomForestClassifier\n",
      "from sklearn.cross_validation import cross_val_score\n",
      "import pickle\n",
      "from collections import defaultdict\n",
      "from sklearn.externals.six import StringIO  \n",
      "import pydot\n",
      "import pyparsing\n",
      "import operator"
     ],
     "language": "python",
     "metadata": {},
     "outputs": [],
     "prompt_number": 66
    },
    {
     "cell_type": "code",
     "collapsed": false,
     "input": [
      "df = pd.read_csv('house-votes-84.data.txt',names=['Party','handicapped-infants','water-project-cost-sharing',\n",
      "                                             'adoption-of-the-budget-resolution','physician-fee-freeze','el-salvador-aid',\n",
      "                                             'religious-groups-in-schools','anti-satellite-test-ban','aid-to-nicaraguan-contras'\n",
      "                                             ,'mx-missile','immigration','synfuels-corporation-cutback','education-spending'\n",
      "                                             ,'superfund-right-to-sue','crime','duty-free-exports',\n",
      "                                             'export-administration-act-south-africa'])\n",
      "\n",
      "df.replace('y',1.0,True)\n",
      "df.replace('n',0.0,True)\n",
      "df.replace('?',np.nan,True)\n",
      "df = df.fillna(df.mean())\n",
      "\n",
      "df['Party'] = df['Party'].map({'democrat': 1, 'republican': 0})\n",
      "#df"
     ],
     "language": "python",
     "metadata": {},
     "outputs": [],
     "prompt_number": 90
    },
    {
     "cell_type": "code",
     "collapsed": false,
     "input": [
      "headers = list(df.columns.values)\n",
      "X_training, X_testing, y_training, y_testing = train_test_split(df[headers[1:]], df[headers[:1]], test_size=0.33)\n",
      "\n",
      "X_training_set = pd.DataFrame(X_training, columns=headers[1:])\n",
      "X_testing_set = pd.DataFrame(X_testing, columns=headers[1:])\n",
      "\n",
      "y_training_set = pd.DataFrame(y_training, columns=headers[:1])\n",
      "y_testing_set = pd.DataFrame(y_testing, columns=headers[:1])"
     ],
     "language": "python",
     "metadata": {},
     "outputs": [],
     "prompt_number": 91
    },
    {
     "cell_type": "heading",
     "level": 2,
     "metadata": {},
     "source": [
      "Challenge #1"
     ]
    },
    {
     "cell_type": "markdown",
     "metadata": {},
     "source": [
      "For the house representatives data set, fit and plot a decision tree classifier"
     ]
    },
    {
     "cell_type": "code",
     "collapsed": false,
     "input": [
      "tree_model = DecisionTreeClassifier()\n",
      "tree_model.fit(X_training_set, y_training_set)"
     ],
     "language": "python",
     "metadata": {},
     "outputs": [
      {
       "metadata": {},
       "output_type": "pyout",
       "prompt_number": 4,
       "text": [
        "DecisionTreeClassifier(compute_importances=None, criterion='gini',\n",
        "            max_depth=None, max_features=None, max_leaf_nodes=None,\n",
        "            min_density=None, min_samples_leaf=1, min_samples_split=2,\n",
        "            random_state=None, splitter='best')"
       ]
      }
     ],
     "prompt_number": 4
    },
    {
     "cell_type": "code",
     "collapsed": false,
     "input": [
      "dot_data = StringIO() \n",
      "export_graphviz(tree_model, out_file=dot_data) \n",
      "graph = pydot.graph_from_dot_data(dot_data.getvalue()) \n",
      "graph.write_pdf(\"house-votes-tree.pdf\") "
     ],
     "language": "python",
     "metadata": {},
     "outputs": [
      {
       "metadata": {},
       "output_type": "pyout",
       "prompt_number": 6,
       "text": [
        "True"
       ]
      }
     ],
     "prompt_number": 6
    },
    {
     "cell_type": "heading",
     "level": 2,
     "metadata": {},
     "source": [
      "Challenge #2"
     ]
    },
    {
     "cell_type": "markdown",
     "metadata": {},
     "source": [
      "Fit and draw a decision tree classifier for your movie dataset"
     ]
    },
    {
     "cell_type": "code",
     "collapsed": false,
     "input": [
      "# Load Pickle file and build full DataFrame object\n",
      "with open('database_file', 'r') as database_file:\n",
      "    database = pickle.load(database_file)\n",
      "\n",
      "full_data_frame = pd.DataFrame(database)\n",
      "full_data_frame.columns = pd.Index([u'Actors', u'Budget', u'Composers', u'Directors', \n",
      "                                    u'DomesticTotalGross', u'Genre', u'Title', u'OpeningWeekend', \n",
      "                                    u'Producers', u'Rating', u'ReleaseDate', u'Runtime'])"
     ],
     "language": "python",
     "metadata": {},
     "outputs": [],
     "prompt_number": 64
    },
    {
     "cell_type": "code",
     "collapsed": false,
     "input": [
      "# Process full DataFrame into workable subset\n",
      "index_series = full_data_frame.index.values\n",
      "working_data_frame = pd.DataFrame(full_data_frame[['DomesticTotalGross'\n",
      "                                                   ,'Budget'\n",
      "                                                   ,'ReleaseDate'\n",
      "                                                   ,'Runtime'\n",
      "                                                   ,'Genre'\n",
      "                                                   ,'Rating'\n",
      "                                                   ]])\n",
      "working_data_frame = working_data_frame.dropna(how='any')\n",
      "working_data_frame['Budget'] = [float(item) for item in working_data_frame['Budget']]\n",
      "working_data_frame['BudgetLog'] = [np.log(float(item)) for item in working_data_frame['Budget']]\n",
      "working_data_frame['BudgetSquared'] = [np.power(float(item),2) for item in working_data_frame['Budget']]\n",
      "working_data_frame['BudgetCubed'] = [np.power(float(item),3) for item in working_data_frame['Budget']]\n",
      "working_data_frame['RuntimeSquared'] = [np.power(float(item),2) for item in working_data_frame['Runtime']]\n",
      "working_data_frame['RuntimeCubed'] = [np.power(float(item),3) for item in working_data_frame['Runtime']]\n",
      "working_data_frame['Ones'] = 1.0\n",
      "working_data_frame['LogGross'] = [np.log(item) for item in working_data_frame['DomesticTotalGross']]\n",
      "working_data_frame['ReleaseMonth'] = [item.strftime('%b') for item in working_data_frame['ReleaseDate']]\n",
      "working_data_frame['LogMonth'] = [np.log(item.month) for item in working_data_frame['ReleaseDate']]\n",
      "working_data_frame['ReleaseYear'] = [item.year for item in working_data_frame['ReleaseDate']]\n",
      "working_data_frame = pd.concat([working_data_frame,pd.get_dummies(working_data_frame['ReleaseMonth'])], \n",
      "                               axis=1)\n",
      "working_data_frame = pd.concat([working_data_frame,pd.get_dummies(working_data_frame['Rating'])], \n",
      "                               axis=1)\n",
      "\n",
      "# Build and add genre/rating features and intercept feature\n",
      "genre_list = [x for x in reduce(operator.add, [item.split(' ') for item \n",
      "                                               in working_data_frame['Genre']]) if x != '/']\n",
      "genre_dict = defaultdict(int)\n",
      "for item in genre_list:\n",
      "    genre_dict[item] += 1\n",
      "genre_list = [key for key, item in genre_dict.iteritems()]\n",
      "for item in genre_list:\n",
      "    working_data_frame[item] = 0.0\n",
      "\n",
      "for k, v in working_data_frame['Genre'].iteritems():\n",
      "    for item in working_data_frame.loc[[k]]['Genre'].values:\n",
      "        for genre_item in item.split(' '):\n",
      "            if genre_item != '/':\n",
      "                working_data_frame.loc[k, genre_item] = 1\n",
      "\n",
      "# Generate interaction features\n",
      "rating_list = ['R','PG','PG-13','G','Unrated','NC-17','GP','M','X']\n",
      "month_list = ['Jan','Feb','Mar','Apr','May','Jun','Jul','Aug','Sep','Oct','Nov','Dec']\n",
      "\n",
      "# rating_genre_interaction_list = []\n",
      "# for rating in rating_list:\n",
      "#     for genre in genre_list:\n",
      "#         working_data_frame['%s_%s' % (rating, genre)] = working_data_frame[rating] * working_data_frame[genre]\n",
      "#         rating_genre_interaction_list.append('%s_%s' % (rating, genre))\n",
      "\n",
      "# month_genre_interaction_list = []        \n",
      "# for month in month_list:\n",
      "#     for genre in genre_list:\n",
      "#         working_data_frame['%s_%s' % (month, genre)] = working_data_frame[month] * working_data_frame[genre]\n",
      "#         month_genre_interaction_list.append('%s_%s' % (month, genre))\n",
      "\n",
      "# Set features to use\n",
      "parameter_list = ['DomesticTotalGross']\n",
      "parameter_list.append('Runtime')\n",
      "parameter_list.extend(genre_list)\n",
      "parameter_list.extend(rating_list)\n",
      "parameter_list.extend(month_list)\n",
      "#parameter_list.extend(rating_genre_interaction_list)\n",
      "#parameter_list.extend(month_genre_interaction_list)\n",
      "\n",
      "#len(parameter_list)\n",
      "\n",
      "cleaned_data_frame = working_data_frame[parameter_list]\n",
      "cleaned_X = cleaned_data_frame[movie_headers]\n",
      "cleaned_y = cleaned_data_frame['DomesticTotalGross']\n",
      "\n"
     ],
     "language": "python",
     "metadata": {},
     "outputs": [],
     "prompt_number": 86
    },
    {
     "cell_type": "code",
     "collapsed": false,
     "input": [
      "movie_headers = parameter_list\n",
      "movie_headers.remove('DomesticTotalGross')\n",
      "X_movie_training, X_movie_testing, y_movie_training, y_movie_testing = train_test_split(\n",
      "    cleaned_X, \n",
      "    cleaned_y, \n",
      "    test_size=0.33)\n",
      "\n",
      "X_movie_training_set = pd.DataFrame(X_movie_training, columns=movie_headers)\n",
      "X_movie_testing_set = pd.DataFrame(X_movie_testing, columns=movie_headers)\n",
      "\n",
      "y_movie_training_set = pd.DataFrame(y_movie_training, columns=['DomesticTotalGross'])\n",
      "y_movie_testing_set = pd.DataFrame(y_movie_testing, columns=['DomesticTotalGross'])"
     ],
     "language": "python",
     "metadata": {},
     "outputs": [],
     "prompt_number": 87
    },
    {
     "cell_type": "code",
     "collapsed": false,
     "input": [
      "movie_tree = DecisionTreeClassifier()\n",
      "movie_tree.fit(X_movie_training_set, y_movie_training_set)"
     ],
     "language": "python",
     "metadata": {},
     "outputs": [
      {
       "metadata": {},
       "output_type": "pyout",
       "prompt_number": 88,
       "text": [
        "DecisionTreeClassifier(compute_importances=None, criterion='gini',\n",
        "            max_depth=None, max_features=None, max_leaf_nodes=None,\n",
        "            min_density=None, min_samples_leaf=1, min_samples_split=2,\n",
        "            random_state=None, splitter='best')"
       ]
      }
     ],
     "prompt_number": 88
    },
    {
     "cell_type": "code",
     "collapsed": false,
     "input": [
      "dot_data = StringIO() \n",
      "export_graphviz(movie_tree, out_file=dot_data) \n",
      "graph = pydot.graph_from_dot_data(dot_data.getvalue()) \n",
      "graph.write_pdf(\"movies-tree.pdf\") "
     ],
     "language": "python",
     "metadata": {},
     "outputs": [
      {
       "metadata": {},
       "output_type": "pyout",
       "prompt_number": 89,
       "text": [
        "True"
       ]
      }
     ],
     "prompt_number": 89
    },
    {
     "cell_type": "heading",
     "level": 2,
     "metadata": {},
     "source": [
      "Challenge #3"
     ]
    },
    {
     "cell_type": "markdown",
     "metadata": {},
     "source": [
      "Tackle the Titanic Survivors kaggle competition1 with decision trees. Look at your splits, how does your tree decide?"
     ]
    },
    {
     "cell_type": "code",
     "collapsed": false,
     "input": [
      "titanic_train = pd.read_csv('train.csv')\n",
      "titanic_train = pd.concat([titanic_train, pd.get_dummies(titanic_train['Sex'])], \n",
      "                               axis=1)\n",
      "titanic_train = pd.concat([titanic_train, pd.get_dummies(titanic_train['Embarked'])], \n",
      "                               axis=1).dropna(how='any')\n",
      "titanic_train_X = titanic_train[['Pclass','male','female','Age','SibSp','Parch','Fare','C','Q','S']]\n",
      "titanic_train_y = titanic_train[['Survived']]\n",
      "\n",
      "titanic_test = pd.read_csv('test.csv')\n",
      "titanic_test = pd.concat([titanic_test, pd.get_dummies(titanic_test['Sex'])], \n",
      "                               axis=1)\n",
      "titanic_test = pd.concat([titanic_test, pd.get_dummies(titanic_test['Embarked'])], \n",
      "                               axis=1).dropna(how='any')\n",
      "titanic_test_X = titanic_train[['Pclass','male','female','Age','SibSp','Parch','Fare','C','Q','S']]\n",
      "titanic_test_y = titanic_train[['Survived']]"
     ],
     "language": "python",
     "metadata": {},
     "outputs": [],
     "prompt_number": 116
    },
    {
     "cell_type": "code",
     "collapsed": false,
     "input": [
      "titanic_tree = DecisionTreeClassifier()\n",
      "titanic_tree.fit(titanic_train_X, titanic_train_y)"
     ],
     "language": "python",
     "metadata": {},
     "outputs": [
      {
       "metadata": {},
       "output_type": "pyout",
       "prompt_number": 117,
       "text": [
        "DecisionTreeClassifier(compute_importances=None, criterion='gini',\n",
        "            max_depth=None, max_features=None, max_leaf_nodes=None,\n",
        "            min_density=None, min_samples_leaf=1, min_samples_split=2,\n",
        "            random_state=None, splitter='best')"
       ]
      }
     ],
     "prompt_number": 117
    },
    {
     "cell_type": "code",
     "collapsed": false,
     "input": [
      "dot_data = StringIO() \n",
      "export_graphviz(titanic_tree, out_file=dot_data) \n",
      "graph = pydot.graph_from_dot_data(dot_data.getvalue()) \n",
      "graph.write_pdf(\"titanic-tree.pdf\") "
     ],
     "language": "python",
     "metadata": {},
     "outputs": [
      {
       "metadata": {},
       "output_type": "pyout",
       "prompt_number": 118,
       "text": [
        "True"
       ]
      }
     ],
     "prompt_number": 118
    },
    {
     "cell_type": "code",
     "collapsed": false,
     "input": [],
     "language": "python",
     "metadata": {},
     "outputs": []
    }
   ],
   "metadata": {}
  }
 ]
}